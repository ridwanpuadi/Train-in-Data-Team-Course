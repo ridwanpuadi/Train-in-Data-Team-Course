{
 "cells": [
  {
   "cell_type": "markdown",
   "id": "96b946c1",
   "metadata": {},
   "source": [
    "# Recursive Forecasting with future known features\n",
    "\n",
    "[Forecasting with Machine Learning - Course](https://www.trainindata.com/p/forecasting-with-machine-learning)\n",
    "\n",
    "In this notebook, we carry out recursive forecasting to predict multiple steps into the future by using a Lasso regression.\n",
    "\n",
    "SKForecast produces lags out of the box. But we can combine SKForecast with Feature-engine and other libraries to create more features.\n",
    "\n",
    "In this notebook, we will add features whose values in the future we know: **features about date and time.**"
   ]
  },
  {
   "cell_type": "code",
   "execution_count": 1,
   "id": "6b1c7ede",
   "metadata": {},
   "outputs": [],
   "source": [
    "import matplotlib.pyplot as plt\n",
    "import pandas as pd\n",
    "\n",
    "from sklearn.linear_model import Lasso\n",
    "from sklearn.metrics import mean_squared_error\n",
    "from sklearn.pipeline import Pipeline\n",
    "from sklearn.preprocessing import MinMaxScaler\n",
    "\n",
    "from skforecast.ForecasterAutoreg import ForecasterAutoreg\n",
    "\n",
    "from feature_engine.datetime import DatetimeFeatures"
   ]
  },
  {
   "cell_type": "markdown",
   "id": "50371561",
   "metadata": {},
   "source": [
    "# Load data\n",
    "\n",
    "We will use the electricity demand dataset found [here](https://github.com/tidyverts/tsibbledata/tree/master/data-raw/vic_elec/VIC2015).\n",
    "\n",
    "**Citation:**\n",
    "\n",
    "Godahewa, Rakshitha, Bergmeir, Christoph, Webb, Geoff, Hyndman, Rob, & Montero-Manso, Pablo. (2021). Australian Electricity Demand Dataset (Version 1) [Data set]. Zenodo. https://doi.org/10.5281/zenodo.4659727\n",
    "\n",
    "**Description of data:**\n",
    "\n",
    "A description of the data can be found [here](https://rdrr.io/cran/tsibbledata/man/vic_elec.html). The data contains electricity demand in Victoria, Australia, at 30 minute intervals over a period of 12 years, from 2002 to early 2015. There is also the temperature in Melbourne at 30 minute intervals and public holiday dates."
   ]
  },
  {
   "cell_type": "code",
   "execution_count": 2,
   "id": "8b09fa59",
   "metadata": {},
   "outputs": [
    {
     "data": {
      "text/html": [
       "<div>\n",
       "<style scoped>\n",
       "    .dataframe tbody tr th:only-of-type {\n",
       "        vertical-align: middle;\n",
       "    }\n",
       "\n",
       "    .dataframe tbody tr th {\n",
       "        vertical-align: top;\n",
       "    }\n",
       "\n",
       "    .dataframe thead th {\n",
       "        text-align: right;\n",
       "    }\n",
       "</style>\n",
       "<table border=\"1\" class=\"dataframe\">\n",
       "  <thead>\n",
       "    <tr style=\"text-align: right;\">\n",
       "      <th></th>\n",
       "      <th>demand</th>\n",
       "    </tr>\n",
       "    <tr>\n",
       "      <th>date_time</th>\n",
       "      <th></th>\n",
       "    </tr>\n",
       "  </thead>\n",
       "  <tbody>\n",
       "    <tr>\n",
       "      <th>2002-01-01 00:00:00</th>\n",
       "      <td>6919.366092</td>\n",
       "    </tr>\n",
       "    <tr>\n",
       "      <th>2002-01-01 01:00:00</th>\n",
       "      <td>7165.974188</td>\n",
       "    </tr>\n",
       "    <tr>\n",
       "      <th>2002-01-01 02:00:00</th>\n",
       "      <td>6406.542994</td>\n",
       "    </tr>\n",
       "    <tr>\n",
       "      <th>2002-01-01 03:00:00</th>\n",
       "      <td>5815.537828</td>\n",
       "    </tr>\n",
       "    <tr>\n",
       "      <th>2002-01-01 04:00:00</th>\n",
       "      <td>5497.732922</td>\n",
       "    </tr>\n",
       "  </tbody>\n",
       "</table>\n",
       "</div>"
      ],
      "text/plain": [
       "                          demand\n",
       "date_time                       \n",
       "2002-01-01 00:00:00  6919.366092\n",
       "2002-01-01 01:00:00  7165.974188\n",
       "2002-01-01 02:00:00  6406.542994\n",
       "2002-01-01 03:00:00  5815.537828\n",
       "2002-01-01 04:00:00  5497.732922"
      ]
     },
     "execution_count": 2,
     "metadata": {},
     "output_type": "execute_result"
    }
   ],
   "source": [
    "# Electricity demand.\n",
    "url = \"https://raw.githubusercontent.com/tidyverts/tsibbledata/master/data-raw/vic_elec/VIC2015/demand.csv\"\n",
    "df = pd.read_csv(url)\n",
    "\n",
    "df.drop(columns=[\"Industrial\"], inplace=True)\n",
    "\n",
    "# Convert the integer Date to an actual date with datetime type\n",
    "df[\"date\"] = df[\"Date\"].apply(\n",
    "    lambda x: pd.Timestamp(\"1899-12-30\") + pd.Timedelta(x, unit=\"days\")\n",
    ")\n",
    "\n",
    "# Create a timestamp from the integer Period representing 30 minute intervals\n",
    "df[\"date_time\"] = df[\"date\"] + \\\n",
    "    pd.to_timedelta((df[\"Period\"] - 1) * 30, unit=\"m\")\n",
    "\n",
    "df.dropna(inplace=True)\n",
    "\n",
    "# Rename columns\n",
    "df = df[[\"date_time\", \"OperationalLessIndustrial\"]]\n",
    "\n",
    "df.columns = [\"date_time\", \"demand\"]\n",
    "\n",
    "# Resample to hourly\n",
    "df = (\n",
    "    df.set_index(\"date_time\")\n",
    "    .resample(\"H\")\n",
    "    .agg({\"demand\": \"sum\"})\n",
    ")\n",
    "\n",
    "df.head()"
   ]
  },
  {
   "cell_type": "code",
   "execution_count": 3,
   "id": "baa2bbc2",
   "metadata": {},
   "outputs": [
    {
     "data": {
      "text/html": [
       "<div>\n",
       "<style scoped>\n",
       "    .dataframe tbody tr th:only-of-type {\n",
       "        vertical-align: middle;\n",
       "    }\n",
       "\n",
       "    .dataframe tbody tr th {\n",
       "        vertical-align: top;\n",
       "    }\n",
       "\n",
       "    .dataframe thead th {\n",
       "        text-align: right;\n",
       "    }\n",
       "</style>\n",
       "<table border=\"1\" class=\"dataframe\">\n",
       "  <thead>\n",
       "    <tr style=\"text-align: right;\">\n",
       "      <th></th>\n",
       "      <th>demand</th>\n",
       "    </tr>\n",
       "    <tr>\n",
       "      <th>date_time</th>\n",
       "      <th></th>\n",
       "    </tr>\n",
       "  </thead>\n",
       "  <tbody>\n",
       "    <tr>\n",
       "      <th>2015-02-28 19:00:00</th>\n",
       "      <td>9596.777060</td>\n",
       "    </tr>\n",
       "    <tr>\n",
       "      <th>2015-02-28 20:00:00</th>\n",
       "      <td>8883.230296</td>\n",
       "    </tr>\n",
       "    <tr>\n",
       "      <th>2015-02-28 21:00:00</th>\n",
       "      <td>8320.260550</td>\n",
       "    </tr>\n",
       "    <tr>\n",
       "      <th>2015-02-28 22:00:00</th>\n",
       "      <td>8110.055916</td>\n",
       "    </tr>\n",
       "    <tr>\n",
       "      <th>2015-02-28 23:00:00</th>\n",
       "      <td>8519.368752</td>\n",
       "    </tr>\n",
       "  </tbody>\n",
       "</table>\n",
       "</div>"
      ],
      "text/plain": [
       "                          demand\n",
       "date_time                       \n",
       "2015-02-28 19:00:00  9596.777060\n",
       "2015-02-28 20:00:00  8883.230296\n",
       "2015-02-28 21:00:00  8320.260550\n",
       "2015-02-28 22:00:00  8110.055916\n",
       "2015-02-28 23:00:00  8519.368752"
      ]
     },
     "execution_count": 3,
     "metadata": {},
     "output_type": "execute_result"
    }
   ],
   "source": [
    "df.tail()"
   ]
  },
  {
   "cell_type": "code",
   "execution_count": 4,
   "id": "5ea042aa",
   "metadata": {},
   "outputs": [],
   "source": [
    "# Split into train and test\n",
    "\n",
    "# We leave the last February in the test set\n",
    "\n",
    "end_train = '2014-12-31 23:59:59'\n",
    "X_train = df.loc[:end_train]\n",
    "X_test  = df.loc[end_train:]"
   ]
  },
  {
   "cell_type": "markdown",
   "id": "5942feee",
   "metadata": {},
   "source": [
    "## Plot time series"
   ]
  },
  {
   "cell_type": "code",
   "execution_count": 5,
   "id": "a7ab8c0d",
   "metadata": {},
   "outputs": [
    {
     "data": {
      "image/png": "[encoded data removed]",
      "text/plain": [
       "<Figure size 700x300 with 1 Axes>"
      ]
     },
     "metadata": {},
     "output_type": "display_data"
    }
   ],
   "source": [
    "fig, ax = plt.subplots(figsize=(7, 3))\n",
    "X_train.tail(500).plot(ax=ax)\n",
    "X_test.head(500).plot(ax=ax)\n",
    "ax.set_title('Hourly energy consumption.')\n",
    "ax.legend([\"train\", \"test\"])\n",
    "plt.show()"
   ]
  },
  {
   "cell_type": "markdown",
   "id": "a384443e",
   "metadata": {},
   "source": [
    "## Regression model"
   ]
  },
  {
   "cell_type": "code",
   "execution_count": 6,
   "id": "5ddc5f94",
   "metadata": {},
   "outputs": [],
   "source": [
    "# Lasso regression model\n",
    "# datetime and energy demand are not in the\n",
    "# same scale, so we need to scale the variables\n",
    "\n",
    "model = Pipeline([\n",
    "    (\"scaler\", MinMaxScaler()),\n",
    "    (\"lasso\", Lasso(random_state=9, alpha=10))\n",
    "])"
   ]
  },
  {
   "cell_type": "markdown",
   "id": "d2296fd2",
   "metadata": {},
   "source": [
    "## Adding datetime features\n",
    "\n",
    "Let's now do recursive forecasting adding datetime features."
   ]
  },
  {
   "cell_type": "code",
   "execution_count": 7,
   "id": "0aadd900",
   "metadata": {},
   "outputs": [],
   "source": [
    "# Feature engine's transformer to create datetime\n",
    "# features can extract features from one or more columns\n",
    "# or from the index.\n",
    "\n",
    "# To be compatible with skforecast, we need to extract\n",
    "# features from a column, and ensure the result does not contain\n",
    "# any variables that we do not want as part of the forecast.\n",
    "\n",
    "datetime_f = DatetimeFeatures(\n",
    "    features_to_extract = [\"month\", \"day_of_week\", \"hour\"],\n",
    "    drop_original=True,\n",
    ")"
   ]
  },
  {
   "cell_type": "code",
   "execution_count": 8,
   "id": "050aefca",
   "metadata": {},
   "outputs": [
    {
     "data": {
      "text/html": [
       "<div>\n",
       "<style scoped>\n",
       "    .dataframe tbody tr th:only-of-type {\n",
       "        vertical-align: middle;\n",
       "    }\n",
       "\n",
       "    .dataframe tbody tr th {\n",
       "        vertical-align: top;\n",
       "    }\n",
       "\n",
       "    .dataframe thead th {\n",
       "        text-align: right;\n",
       "    }\n",
       "</style>\n",
       "<table border=\"1\" class=\"dataframe\">\n",
       "  <thead>\n",
       "    <tr style=\"text-align: right;\">\n",
       "      <th></th>\n",
       "      <th>date_time</th>\n",
       "    </tr>\n",
       "    <tr>\n",
       "      <th>date_time</th>\n",
       "      <th></th>\n",
       "    </tr>\n",
       "  </thead>\n",
       "  <tbody>\n",
       "    <tr>\n",
       "      <th>2002-01-01 00:00:00</th>\n",
       "      <td>2002-01-01 00:00:00</td>\n",
       "    </tr>\n",
       "    <tr>\n",
       "      <th>2002-01-01 01:00:00</th>\n",
       "      <td>2002-01-01 01:00:00</td>\n",
       "    </tr>\n",
       "    <tr>\n",
       "      <th>2002-01-01 02:00:00</th>\n",
       "      <td>2002-01-01 02:00:00</td>\n",
       "    </tr>\n",
       "    <tr>\n",
       "      <th>2002-01-01 03:00:00</th>\n",
       "      <td>2002-01-01 03:00:00</td>\n",
       "    </tr>\n",
       "    <tr>\n",
       "      <th>2002-01-01 04:00:00</th>\n",
       "      <td>2002-01-01 04:00:00</td>\n",
       "    </tr>\n",
       "    <tr>\n",
       "      <th>...</th>\n",
       "      <td>...</td>\n",
       "    </tr>\n",
       "    <tr>\n",
       "      <th>2014-12-31 19:00:00</th>\n",
       "      <td>2014-12-31 19:00:00</td>\n",
       "    </tr>\n",
       "    <tr>\n",
       "      <th>2014-12-31 20:00:00</th>\n",
       "      <td>2014-12-31 20:00:00</td>\n",
       "    </tr>\n",
       "    <tr>\n",
       "      <th>2014-12-31 21:00:00</th>\n",
       "      <td>2014-12-31 21:00:00</td>\n",
       "    </tr>\n",
       "    <tr>\n",
       "      <th>2014-12-31 22:00:00</th>\n",
       "      <td>2014-12-31 22:00:00</td>\n",
       "    </tr>\n",
       "    <tr>\n",
       "      <th>2014-12-31 23:00:00</th>\n",
       "      <td>2014-12-31 23:00:00</td>\n",
       "    </tr>\n",
       "  </tbody>\n",
       "</table>\n",
       "<p>113952 rows × 1 columns</p>\n",
       "</div>"
      ],
      "text/plain": [
       "                              date_time\n",
       "date_time                              \n",
       "2002-01-01 00:00:00 2002-01-01 00:00:00\n",
       "2002-01-01 01:00:00 2002-01-01 01:00:00\n",
       "2002-01-01 02:00:00 2002-01-01 02:00:00\n",
       "2002-01-01 03:00:00 2002-01-01 03:00:00\n",
       "2002-01-01 04:00:00 2002-01-01 04:00:00\n",
       "...                                 ...\n",
       "2014-12-31 19:00:00 2014-12-31 19:00:00\n",
       "2014-12-31 20:00:00 2014-12-31 20:00:00\n",
       "2014-12-31 21:00:00 2014-12-31 21:00:00\n",
       "2014-12-31 22:00:00 2014-12-31 22:00:00\n",
       "2014-12-31 23:00:00 2014-12-31 23:00:00\n",
       "\n",
       "[113952 rows x 1 columns]"
      ]
     },
     "execution_count": 8,
     "metadata": {},
     "output_type": "execute_result"
    }
   ],
   "source": [
    "# the input to the datetime features\n",
    "\n",
    "datetime_df = pd.DataFrame(\n",
    "    X_train.index,\n",
    "    index=X_train.index,\n",
    ")\n",
    "\n",
    "# the index needs to match with the series we\n",
    "# want to forecast\n",
    "\n",
    "datetime_df"
   ]
  },
  {
   "cell_type": "code",
   "execution_count": 9,
   "id": "353fb947",
   "metadata": {},
   "outputs": [
    {
     "data": {
      "text/html": [
       "<div>\n",
       "<style scoped>\n",
       "    .dataframe tbody tr th:only-of-type {\n",
       "        vertical-align: middle;\n",
       "    }\n",
       "\n",
       "    .dataframe tbody tr th {\n",
       "        vertical-align: top;\n",
       "    }\n",
       "\n",
       "    .dataframe thead th {\n",
       "        text-align: right;\n",
       "    }\n",
       "</style>\n",
       "<table border=\"1\" class=\"dataframe\">\n",
       "  <thead>\n",
       "    <tr style=\"text-align: right;\">\n",
       "      <th></th>\n",
       "      <th>date_time_month</th>\n",
       "      <th>date_time_day_of_week</th>\n",
       "      <th>date_time_hour</th>\n",
       "    </tr>\n",
       "    <tr>\n",
       "      <th>date_time</th>\n",
       "      <th></th>\n",
       "      <th></th>\n",
       "      <th></th>\n",
       "    </tr>\n",
       "  </thead>\n",
       "  <tbody>\n",
       "    <tr>\n",
       "      <th>2002-01-01 00:00:00</th>\n",
       "      <td>1</td>\n",
       "      <td>1</td>\n",
       "      <td>0</td>\n",
       "    </tr>\n",
       "    <tr>\n",
       "      <th>2002-01-01 01:00:00</th>\n",
       "      <td>1</td>\n",
       "      <td>1</td>\n",
       "      <td>1</td>\n",
       "    </tr>\n",
       "    <tr>\n",
       "      <th>2002-01-01 02:00:00</th>\n",
       "      <td>1</td>\n",
       "      <td>1</td>\n",
       "      <td>2</td>\n",
       "    </tr>\n",
       "    <tr>\n",
       "      <th>2002-01-01 03:00:00</th>\n",
       "      <td>1</td>\n",
       "      <td>1</td>\n",
       "      <td>3</td>\n",
       "    </tr>\n",
       "    <tr>\n",
       "      <th>2002-01-01 04:00:00</th>\n",
       "      <td>1</td>\n",
       "      <td>1</td>\n",
       "      <td>4</td>\n",
       "    </tr>\n",
       "    <tr>\n",
       "      <th>...</th>\n",
       "      <td>...</td>\n",
       "      <td>...</td>\n",
       "      <td>...</td>\n",
       "    </tr>\n",
       "    <tr>\n",
       "      <th>2014-12-31 19:00:00</th>\n",
       "      <td>12</td>\n",
       "      <td>2</td>\n",
       "      <td>19</td>\n",
       "    </tr>\n",
       "    <tr>\n",
       "      <th>2014-12-31 20:00:00</th>\n",
       "      <td>12</td>\n",
       "      <td>2</td>\n",
       "      <td>20</td>\n",
       "    </tr>\n",
       "    <tr>\n",
       "      <th>2014-12-31 21:00:00</th>\n",
       "      <td>12</td>\n",
       "      <td>2</td>\n",
       "      <td>21</td>\n",
       "    </tr>\n",
       "    <tr>\n",
       "      <th>2014-12-31 22:00:00</th>\n",
       "      <td>12</td>\n",
       "      <td>2</td>\n",
       "      <td>22</td>\n",
       "    </tr>\n",
       "    <tr>\n",
       "      <th>2014-12-31 23:00:00</th>\n",
       "      <td>12</td>\n",
       "      <td>2</td>\n",
       "      <td>23</td>\n",
       "    </tr>\n",
       "  </tbody>\n",
       "</table>\n",
       "<p>113952 rows × 3 columns</p>\n",
       "</div>"
      ],
      "text/plain": [
       "                     date_time_month  date_time_day_of_week  date_time_hour\n",
       "date_time                                                                  \n",
       "2002-01-01 00:00:00                1                      1               0\n",
       "2002-01-01 01:00:00                1                      1               1\n",
       "2002-01-01 02:00:00                1                      1               2\n",
       "2002-01-01 03:00:00                1                      1               3\n",
       "2002-01-01 04:00:00                1                      1               4\n",
       "...                              ...                    ...             ...\n",
       "2014-12-31 19:00:00               12                      2              19\n",
       "2014-12-31 20:00:00               12                      2              20\n",
       "2014-12-31 21:00:00               12                      2              21\n",
       "2014-12-31 22:00:00               12                      2              22\n",
       "2014-12-31 23:00:00               12                      2              23\n",
       "\n",
       "[113952 rows x 3 columns]"
      ]
     },
     "execution_count": 9,
     "metadata": {},
     "output_type": "execute_result"
    }
   ],
   "source": [
    "# test transformer\n",
    "\n",
    "datetime_f.fit_transform(datetime_df)"
   ]
  },
  {
   "cell_type": "markdown",
   "id": "05c87231",
   "metadata": {},
   "source": [
    "The output of the transformer is the datetime features that we want. That's good.\n",
    "\n",
    "**Important**: make sure you don accidentally introduce any data that leaks information about the future!!!\n",
    "\n",
    "Now, we can plug it into the forecaster:"
   ]
  },
  {
   "cell_type": "code",
   "execution_count": 10,
   "id": "6d51f410",
   "metadata": {},
   "outputs": [],
   "source": [
    "forecaster = ForecasterAutoreg(\n",
    "    regressor=model,              # the machine learning model\n",
    "    lags=[1, 24, 6*24],           # the lag features to create\n",
    "    transformer_exog=datetime_f,  # to get the datetime features\n",
    "    forecaster_id=\"recursive\"\n",
    ")"
   ]
  },
  {
   "cell_type": "code",
   "execution_count": 11,
   "id": "79d95a76",
   "metadata": {},
   "outputs": [
    {
     "data": {
      "text/plain": [
       "================= \n",
       "ForecasterAutoreg \n",
       "================= \n",
       "Regressor: Pipeline(steps=[('scaler', MinMaxScaler()),\n",
       "                ('lasso', Lasso(alpha=10, random_state=9))]) \n",
       "Lags: [  1  24 144] \n",
       "Transformer for y: None \n",
       "Transformer for exog: DatetimeFeatures(features_to_extract=['month', 'day_of_week', 'hour']) \n",
       "Window size: 144 \n",
       "Weight function included: False \n",
       "Differentiation order: None \n",
       "Exogenous included: True \n",
       "Type of exogenous variable: <class 'pandas.core.frame.DataFrame'> \n",
       "Exogenous variables names: ['date_time'] \n",
       "Training range: [Timestamp('2002-01-01 00:00:00'), Timestamp('2014-12-31 23:00:00')] \n",
       "Training index type: DatetimeIndex \n",
       "Training index frequency: H \n",
       "Regressor parameters: {'scaler__clip': False, 'scaler__copy': True, 'scaler__feature_range': (0, 1), 'lasso__alpha': 10, 'lasso__copy_X': True, 'lasso__fit_intercept': True, 'lasso__max_iter': 1000, 'lasso__positive': False, 'lasso__precompute': False, 'lasso__random_state': 9, 'lasso__selection': 'cyclic', 'lasso__tol': 0.0001, 'lasso__warm_start': False} \n",
       "fit_kwargs: {} \n",
       "Creation date: 2024-02-23 16:53:02 \n",
       "Last fit date: 2024-02-23 16:53:02 \n",
       "Skforecast version: 0.12.0 \n",
       "Python version: 3.10.5 \n",
       "Forecaster id: recursive "
      ]
     },
     "execution_count": 11,
     "metadata": {},
     "output_type": "execute_result"
    }
   ],
   "source": [
    "# Fit the model to the data\n",
    "\n",
    "forecaster.fit(\n",
    "    y=X_train[\"demand\"],  # the series for the lags\n",
    "    exog=datetime_df,    # the datetime for the datetime features\n",
    ")\n",
    "\n",
    "forecaster"
   ]
  },
  {
   "cell_type": "markdown",
   "id": "7c425a73",
   "metadata": {},
   "source": [
    "## Input features to regression"
   ]
  },
  {
   "cell_type": "code",
   "execution_count": 12,
   "id": "35e60301",
   "metadata": {},
   "outputs": [
    {
     "data": {
      "text/plain": [
       "(                           lag_1       lag_24      lag_144  date_time_month  \\\n",
       " date_time                                                                     \n",
       " 2002-01-07 00:00:00  7290.234268  6722.984526  6919.366092                1   \n",
       " 2002-01-07 01:00:00  6808.008916  7140.591176  7165.974188                1   \n",
       " 2002-01-07 02:00:00  7209.285712  6562.022104  6406.542994                1   \n",
       " 2002-01-07 03:00:00  6535.818342  5976.020780  5815.537828                1   \n",
       " 2002-01-07 04:00:00  6112.382636  5688.468222  5497.732922                1   \n",
       " ...                          ...          ...          ...              ...   \n",
       " 2014-12-31 19:00:00  8139.251100  8110.937760  7301.855388               12   \n",
       " 2014-12-31 20:00:00  7818.461408  8214.038608  7472.779788               12   \n",
       " 2014-12-31 21:00:00  7801.201802  7768.087674  7170.472868               12   \n",
       " 2014-12-31 22:00:00  7516.472988  7504.257620  7038.967858               12   \n",
       " 2014-12-31 23:00:00  7571.301440  8181.280682  7751.718262               12   \n",
       " \n",
       "                      date_time_day_of_week  date_time_hour  \n",
       " date_time                                                   \n",
       " 2002-01-07 00:00:00                      0               0  \n",
       " 2002-01-07 01:00:00                      0               1  \n",
       " 2002-01-07 02:00:00                      0               2  \n",
       " 2002-01-07 03:00:00                      0               3  \n",
       " 2002-01-07 04:00:00                      0               4  \n",
       " ...                                    ...             ...  \n",
       " 2014-12-31 19:00:00                      2              19  \n",
       " 2014-12-31 20:00:00                      2              20  \n",
       " 2014-12-31 21:00:00                      2              21  \n",
       " 2014-12-31 22:00:00                      2              22  \n",
       " 2014-12-31 23:00:00                      2              23  \n",
       " \n",
       " [113808 rows x 6 columns],\n",
       " date_time\n",
       " 2002-01-07 00:00:00    6808.008916\n",
       " 2002-01-07 01:00:00    7209.285712\n",
       " 2002-01-07 02:00:00    6535.818342\n",
       " 2002-01-07 03:00:00    6112.382636\n",
       " 2002-01-07 04:00:00    6165.882096\n",
       "                           ...     \n",
       " 2014-12-31 19:00:00    7818.461408\n",
       " 2014-12-31 20:00:00    7801.201802\n",
       " 2014-12-31 21:00:00    7516.472988\n",
       " 2014-12-31 22:00:00    7571.301440\n",
       " 2014-12-31 23:00:00    8352.992140\n",
       " Freq: H, Name: y, Length: 113808, dtype: float64)"
      ]
     },
     "execution_count": 12,
     "metadata": {},
     "output_type": "execute_result"
    }
   ],
   "source": [
    "# Check the predictor features table created by skforecast.\n",
    "\n",
    "# These are the input to the Lasso, so it's important to know\n",
    "# what we are using for training:\n",
    "\n",
    "X, y = forecaster.create_train_X_y(\n",
    "    y=X_train[\"demand\"],\n",
    "    exog=datetime_df,\n",
    ")\n",
    "\n",
    "X, y"
   ]
  },
  {
   "cell_type": "markdown",
   "id": "67dae75d",
   "metadata": {},
   "source": [
    "That is the data **before** scaling.\n",
    "\n",
    "`2002-01-07` was a Monday, to double check the `day of the week variable`."
   ]
  },
  {
   "cell_type": "code",
   "execution_count": 13,
   "id": "e66cbc39",
   "metadata": {},
   "outputs": [
    {
     "data": {
      "text/html": [
       "<div>\n",
       "<style scoped>\n",
       "    .dataframe tbody tr th:only-of-type {\n",
       "        vertical-align: middle;\n",
       "    }\n",
       "\n",
       "    .dataframe tbody tr th {\n",
       "        vertical-align: top;\n",
       "    }\n",
       "\n",
       "    .dataframe thead th {\n",
       "        text-align: right;\n",
       "    }\n",
       "</style>\n",
       "<table border=\"1\" class=\"dataframe\">\n",
       "  <thead>\n",
       "    <tr style=\"text-align: right;\">\n",
       "      <th></th>\n",
       "      <th>demand</th>\n",
       "    </tr>\n",
       "    <tr>\n",
       "      <th>date_time</th>\n",
       "      <th></th>\n",
       "    </tr>\n",
       "  </thead>\n",
       "  <tbody>\n",
       "    <tr>\n",
       "      <th>2002-01-06 20:00:00</th>\n",
       "      <td>7711.474702</td>\n",
       "    </tr>\n",
       "    <tr>\n",
       "      <th>2002-01-06 21:00:00</th>\n",
       "      <td>7125.291686</td>\n",
       "    </tr>\n",
       "    <tr>\n",
       "      <th>2002-01-06 22:00:00</th>\n",
       "      <td>6765.573884</td>\n",
       "    </tr>\n",
       "    <tr>\n",
       "      <th>2002-01-06 23:00:00</th>\n",
       "      <td>7290.234268</td>\n",
       "    </tr>\n",
       "    <tr>\n",
       "      <th>2002-01-07 00:00:00</th>\n",
       "      <td>6808.008916</td>\n",
       "    </tr>\n",
       "  </tbody>\n",
       "</table>\n",
       "</div>"
      ],
      "text/plain": [
       "                          demand\n",
       "date_time                       \n",
       "2002-01-06 20:00:00  7711.474702\n",
       "2002-01-06 21:00:00  7125.291686\n",
       "2002-01-06 22:00:00  6765.573884\n",
       "2002-01-06 23:00:00  7290.234268\n",
       "2002-01-07 00:00:00  6808.008916"
      ]
     },
     "execution_count": 13,
     "metadata": {},
     "output_type": "execute_result"
    }
   ],
   "source": [
    "# If we print the last points in the time series before \n",
    "# the starting point in the training set, # we can corroborate\n",
    "# lag of 1. If we print further back, we can corroborate lag of 24 and so on\n",
    "\n",
    "# the first points were dropped, because they contained the NAN values\n",
    "# introduced by lag of 24 and lag of 144. So in short, the first 144 rows\n",
    "# are dropped.\n",
    "\n",
    "X_train.loc[:\"2002-01-07 00:00:00\"].tail()"
   ]
  },
  {
   "cell_type": "markdown",
   "id": "084d9f7f",
   "metadata": {},
   "source": [
    "## Forecast next 24 hs\n",
    "\n",
    "We will predict the first points of energy demand right after the training set.\n",
    "\n",
    "That is, starting `2015-01-01 00:00:00`."
   ]
  },
  {
   "cell_type": "code",
   "execution_count": 14,
   "id": "499fd09f",
   "metadata": {},
   "outputs": [
    {
     "data": {
      "text/html": [
       "<div>\n",
       "<style scoped>\n",
       "    .dataframe tbody tr th:only-of-type {\n",
       "        vertical-align: middle;\n",
       "    }\n",
       "\n",
       "    .dataframe tbody tr th {\n",
       "        vertical-align: top;\n",
       "    }\n",
       "\n",
       "    .dataframe thead th {\n",
       "        text-align: right;\n",
       "    }\n",
       "</style>\n",
       "<table border=\"1\" class=\"dataframe\">\n",
       "  <thead>\n",
       "    <tr style=\"text-align: right;\">\n",
       "      <th></th>\n",
       "      <th>date_time</th>\n",
       "    </tr>\n",
       "    <tr>\n",
       "      <th>date_time</th>\n",
       "      <th></th>\n",
       "    </tr>\n",
       "  </thead>\n",
       "  <tbody>\n",
       "    <tr>\n",
       "      <th>2015-01-01 00:00:00</th>\n",
       "      <td>2015-01-01 00:00:00</td>\n",
       "    </tr>\n",
       "    <tr>\n",
       "      <th>2015-01-01 01:00:00</th>\n",
       "      <td>2015-01-01 01:00:00</td>\n",
       "    </tr>\n",
       "    <tr>\n",
       "      <th>2015-01-01 02:00:00</th>\n",
       "      <td>2015-01-01 02:00:00</td>\n",
       "    </tr>\n",
       "    <tr>\n",
       "      <th>2015-01-01 03:00:00</th>\n",
       "      <td>2015-01-01 03:00:00</td>\n",
       "    </tr>\n",
       "    <tr>\n",
       "      <th>2015-01-01 04:00:00</th>\n",
       "      <td>2015-01-01 04:00:00</td>\n",
       "    </tr>\n",
       "  </tbody>\n",
       "</table>\n",
       "</div>"
      ],
      "text/plain": [
       "                              date_time\n",
       "date_time                              \n",
       "2015-01-01 00:00:00 2015-01-01 00:00:00\n",
       "2015-01-01 01:00:00 2015-01-01 01:00:00\n",
       "2015-01-01 02:00:00 2015-01-01 02:00:00\n",
       "2015-01-01 03:00:00 2015-01-01 03:00:00\n",
       "2015-01-01 04:00:00 2015-01-01 04:00:00"
      ]
     },
     "execution_count": 14,
     "metadata": {},
     "output_type": "execute_result"
    }
   ],
   "source": [
    "# we need to create the table with datetime from\n",
    "# which the datetime features will be created\n",
    "\n",
    "datetime_df_test = pd.DataFrame(\n",
    "    X_test.head(24).index,\n",
    "    index=X_test.head(24).index,\n",
    ")\n",
    "\n",
    "# this date needs to coincide with the forecasting\n",
    "# horizon\n",
    "datetime_df_test.head()"
   ]
  },
  {
   "cell_type": "code",
   "execution_count": 15,
   "id": "a2cf2de5",
   "metadata": {},
   "outputs": [
    {
     "data": {
      "text/plain": [
       "2015-01-01 00:00:00    8157.531346\n",
       "2015-01-01 01:00:00    7868.416403\n",
       "2015-01-01 02:00:00    7550.127846\n",
       "2015-01-01 03:00:00    7290.602361\n",
       "2015-01-01 04:00:00    7146.930468\n",
       "Freq: H, Name: pred, dtype: float64"
      ]
     },
     "execution_count": 15,
     "metadata": {},
     "output_type": "execute_result"
    }
   ],
   "source": [
    "# Predict the next 24 hs\n",
    "\n",
    "predictions = forecaster.predict(\n",
    "    steps=24,\n",
    "    exog=datetime_df_test,\n",
    ")\n",
    "\n",
    "predictions.head()"
   ]
  },
  {
   "cell_type": "code",
   "execution_count": 16,
   "id": "7b967eb2",
   "metadata": {},
   "outputs": [
    {
     "data": {
      "image/png": "[encoded data removed]",
      "text/plain": [
       "<Figure size 600x300 with 1 Axes>"
      ]
     },
     "metadata": {},
     "output_type": "display_data"
    }
   ],
   "source": [
    "# Plot the forecast vs the actual\n",
    "\n",
    "fig, ax = plt.subplots(figsize=(6, 3))\n",
    "X_train.tail(100)[\"demand\"].plot(ax=ax, label='train')\n",
    "X_test.head(24)[\"demand\"].plot(ax=ax, label='test')\n",
    "predictions.plot(ax=ax, label='predictions')\n",
    "plt.title(\"Lasso forecasting\")\n",
    "plt.ylabel(\"Energy demand (hourly)\")\n",
    "ax.legend(bbox_to_anchor=(1.3, 1.0));"
   ]
  },
  {
   "cell_type": "code",
   "execution_count": 17,
   "id": "541bfe6f",
   "metadata": {},
   "outputs": [
    {
     "name": "stdout",
     "output_type": "stream",
     "text": [
      "Test error (mse): 234147.61493222843\n"
     ]
    }
   ],
   "source": [
    "# Prediction error\n",
    "\n",
    "error_mse = mean_squared_error(\n",
    "                y_true = X_test[\"demand\"].head(24),\n",
    "                y_pred = predictions\n",
    "            )\n",
    "\n",
    "print(f\"Test error (mse): {error_mse}\")"
   ]
  },
  {
   "cell_type": "code",
   "execution_count": 18,
   "id": "b4b51768",
   "metadata": {},
   "outputs": [
    {
     "name": "stdout",
     "output_type": "stream",
     "text": [
      "Test error (rmse): 234147.61493222843\n"
     ]
    }
   ],
   "source": [
    "# Prediction error\n",
    "\n",
    "error_rmse = mean_squared_error(\n",
    "                y_true = X_test[\"demand\"].head(24),\n",
    "                y_pred = predictions,\n",
    "                squared=True,\n",
    "            )\n",
    "\n",
    "print(f\"Test error (rmse): {error_rmse}\")"
   ]
  },
  {
   "cell_type": "markdown",
   "id": "53bd70f8",
   "metadata": {},
   "source": [
    "## Predict any time point into the future"
   ]
  },
  {
   "cell_type": "code",
   "execution_count": 19,
   "id": "dba49899",
   "metadata": {},
   "outputs": [
    {
     "data": {
      "text/html": [
       "<div>\n",
       "<style scoped>\n",
       "    .dataframe tbody tr th:only-of-type {\n",
       "        vertical-align: middle;\n",
       "    }\n",
       "\n",
       "    .dataframe tbody tr th {\n",
       "        vertical-align: top;\n",
       "    }\n",
       "\n",
       "    .dataframe thead th {\n",
       "        text-align: right;\n",
       "    }\n",
       "</style>\n",
       "<table border=\"1\" class=\"dataframe\">\n",
       "  <thead>\n",
       "    <tr style=\"text-align: right;\">\n",
       "      <th></th>\n",
       "      <th>demand</th>\n",
       "    </tr>\n",
       "    <tr>\n",
       "      <th>date_time</th>\n",
       "      <th></th>\n",
       "    </tr>\n",
       "  </thead>\n",
       "  <tbody>\n",
       "    <tr>\n",
       "      <th>2015-01-26 00:00:00</th>\n",
       "      <td>7492.984640</td>\n",
       "    </tr>\n",
       "    <tr>\n",
       "      <th>2015-01-26 01:00:00</th>\n",
       "      <td>6991.499378</td>\n",
       "    </tr>\n",
       "    <tr>\n",
       "      <th>2015-01-26 02:00:00</th>\n",
       "      <td>6595.584424</td>\n",
       "    </tr>\n",
       "    <tr>\n",
       "      <th>2015-01-26 03:00:00</th>\n",
       "      <td>6469.695590</td>\n",
       "    </tr>\n",
       "    <tr>\n",
       "      <th>2015-01-26 04:00:00</th>\n",
       "      <td>6597.029332</td>\n",
       "    </tr>\n",
       "  </tbody>\n",
       "</table>\n",
       "</div>"
      ],
      "text/plain": [
       "                          demand\n",
       "date_time                       \n",
       "2015-01-26 00:00:00  7492.984640\n",
       "2015-01-26 01:00:00  6991.499378\n",
       "2015-01-26 02:00:00  6595.584424\n",
       "2015-01-26 03:00:00  6469.695590\n",
       "2015-01-26 04:00:00  6597.029332"
      ]
     },
     "execution_count": 19,
     "metadata": {},
     "output_type": "execute_result"
    }
   ],
   "source": [
    "# Say we want to predict energy demand for 1st of February\n",
    "\n",
    "forecast_start = '2015-02-01 00:00:00'\n",
    "\n",
    "# we need the energy demand up to 144 hs before that point\n",
    "past_data_available = X_test[:'2015-01-31 23:59:59'].tail(144)\n",
    "\n",
    "# data in the past that we know at the point of forecast\n",
    "past_data_available.head()"
   ]
  },
  {
   "cell_type": "code",
   "execution_count": 20,
   "id": "542e251d",
   "metadata": {},
   "outputs": [
    {
     "data": {
      "text/html": [
       "<div>\n",
       "<style scoped>\n",
       "    .dataframe tbody tr th:only-of-type {\n",
       "        vertical-align: middle;\n",
       "    }\n",
       "\n",
       "    .dataframe tbody tr th {\n",
       "        vertical-align: top;\n",
       "    }\n",
       "\n",
       "    .dataframe thead th {\n",
       "        text-align: right;\n",
       "    }\n",
       "</style>\n",
       "<table border=\"1\" class=\"dataframe\">\n",
       "  <thead>\n",
       "    <tr style=\"text-align: right;\">\n",
       "      <th></th>\n",
       "      <th>date_time</th>\n",
       "    </tr>\n",
       "    <tr>\n",
       "      <th>date_time</th>\n",
       "      <th></th>\n",
       "    </tr>\n",
       "  </thead>\n",
       "  <tbody>\n",
       "    <tr>\n",
       "      <th>2015-02-01 00:00:00</th>\n",
       "      <td>2015-02-01 00:00:00</td>\n",
       "    </tr>\n",
       "    <tr>\n",
       "      <th>2015-02-01 01:00:00</th>\n",
       "      <td>2015-02-01 01:00:00</td>\n",
       "    </tr>\n",
       "    <tr>\n",
       "      <th>2015-02-01 02:00:00</th>\n",
       "      <td>2015-02-01 02:00:00</td>\n",
       "    </tr>\n",
       "    <tr>\n",
       "      <th>2015-02-01 03:00:00</th>\n",
       "      <td>2015-02-01 03:00:00</td>\n",
       "    </tr>\n",
       "    <tr>\n",
       "      <th>2015-02-01 04:00:00</th>\n",
       "      <td>2015-02-01 04:00:00</td>\n",
       "    </tr>\n",
       "    <tr>\n",
       "      <th>2015-02-01 05:00:00</th>\n",
       "      <td>2015-02-01 05:00:00</td>\n",
       "    </tr>\n",
       "    <tr>\n",
       "      <th>2015-02-01 06:00:00</th>\n",
       "      <td>2015-02-01 06:00:00</td>\n",
       "    </tr>\n",
       "    <tr>\n",
       "      <th>2015-02-01 07:00:00</th>\n",
       "      <td>2015-02-01 07:00:00</td>\n",
       "    </tr>\n",
       "    <tr>\n",
       "      <th>2015-02-01 08:00:00</th>\n",
       "      <td>2015-02-01 08:00:00</td>\n",
       "    </tr>\n",
       "    <tr>\n",
       "      <th>2015-02-01 09:00:00</th>\n",
       "      <td>2015-02-01 09:00:00</td>\n",
       "    </tr>\n",
       "    <tr>\n",
       "      <th>2015-02-01 10:00:00</th>\n",
       "      <td>2015-02-01 10:00:00</td>\n",
       "    </tr>\n",
       "    <tr>\n",
       "      <th>2015-02-01 11:00:00</th>\n",
       "      <td>2015-02-01 11:00:00</td>\n",
       "    </tr>\n",
       "    <tr>\n",
       "      <th>2015-02-01 12:00:00</th>\n",
       "      <td>2015-02-01 12:00:00</td>\n",
       "    </tr>\n",
       "    <tr>\n",
       "      <th>2015-02-01 13:00:00</th>\n",
       "      <td>2015-02-01 13:00:00</td>\n",
       "    </tr>\n",
       "    <tr>\n",
       "      <th>2015-02-01 14:00:00</th>\n",
       "      <td>2015-02-01 14:00:00</td>\n",
       "    </tr>\n",
       "    <tr>\n",
       "      <th>2015-02-01 15:00:00</th>\n",
       "      <td>2015-02-01 15:00:00</td>\n",
       "    </tr>\n",
       "    <tr>\n",
       "      <th>2015-02-01 16:00:00</th>\n",
       "      <td>2015-02-01 16:00:00</td>\n",
       "    </tr>\n",
       "    <tr>\n",
       "      <th>2015-02-01 17:00:00</th>\n",
       "      <td>2015-02-01 17:00:00</td>\n",
       "    </tr>\n",
       "    <tr>\n",
       "      <th>2015-02-01 18:00:00</th>\n",
       "      <td>2015-02-01 18:00:00</td>\n",
       "    </tr>\n",
       "    <tr>\n",
       "      <th>2015-02-01 19:00:00</th>\n",
       "      <td>2015-02-01 19:00:00</td>\n",
       "    </tr>\n",
       "    <tr>\n",
       "      <th>2015-02-01 20:00:00</th>\n",
       "      <td>2015-02-01 20:00:00</td>\n",
       "    </tr>\n",
       "    <tr>\n",
       "      <th>2015-02-01 21:00:00</th>\n",
       "      <td>2015-02-01 21:00:00</td>\n",
       "    </tr>\n",
       "    <tr>\n",
       "      <th>2015-02-01 22:00:00</th>\n",
       "      <td>2015-02-01 22:00:00</td>\n",
       "    </tr>\n",
       "    <tr>\n",
       "      <th>2015-02-01 23:00:00</th>\n",
       "      <td>2015-02-01 23:00:00</td>\n",
       "    </tr>\n",
       "  </tbody>\n",
       "</table>\n",
       "</div>"
      ],
      "text/plain": [
       "                              date_time\n",
       "date_time                              \n",
       "2015-02-01 00:00:00 2015-02-01 00:00:00\n",
       "2015-02-01 01:00:00 2015-02-01 01:00:00\n",
       "2015-02-01 02:00:00 2015-02-01 02:00:00\n",
       "2015-02-01 03:00:00 2015-02-01 03:00:00\n",
       "2015-02-01 04:00:00 2015-02-01 04:00:00\n",
       "2015-02-01 05:00:00 2015-02-01 05:00:00\n",
       "2015-02-01 06:00:00 2015-02-01 06:00:00\n",
       "2015-02-01 07:00:00 2015-02-01 07:00:00\n",
       "2015-02-01 08:00:00 2015-02-01 08:00:00\n",
       "2015-02-01 09:00:00 2015-02-01 09:00:00\n",
       "2015-02-01 10:00:00 2015-02-01 10:00:00\n",
       "2015-02-01 11:00:00 2015-02-01 11:00:00\n",
       "2015-02-01 12:00:00 2015-02-01 12:00:00\n",
       "2015-02-01 13:00:00 2015-02-01 13:00:00\n",
       "2015-02-01 14:00:00 2015-02-01 14:00:00\n",
       "2015-02-01 15:00:00 2015-02-01 15:00:00\n",
       "2015-02-01 16:00:00 2015-02-01 16:00:00\n",
       "2015-02-01 17:00:00 2015-02-01 17:00:00\n",
       "2015-02-01 18:00:00 2015-02-01 18:00:00\n",
       "2015-02-01 19:00:00 2015-02-01 19:00:00\n",
       "2015-02-01 20:00:00 2015-02-01 20:00:00\n",
       "2015-02-01 21:00:00 2015-02-01 21:00:00\n",
       "2015-02-01 22:00:00 2015-02-01 22:00:00\n",
       "2015-02-01 23:00:00 2015-02-01 23:00:00"
      ]
     },
     "execution_count": 20,
     "metadata": {},
     "output_type": "execute_result"
    }
   ],
   "source": [
    "# we also need the datetime in the date range of the forecasting horizon.\n",
    "\n",
    "# To make predictions `exog` must start one step ahead of `last_window`.\n",
    "\n",
    "horizon = X_test['2015-01-31 23:59:59':].head(24)\n",
    "\n",
    "datetime_df_test = pd.DataFrame(\n",
    "    horizon.index,\n",
    "    index=horizon.index,\n",
    ")\n",
    "\n",
    "datetime_df_test"
   ]
  },
  {
   "cell_type": "code",
   "execution_count": 21,
   "id": "a4353609",
   "metadata": {},
   "outputs": [
    {
     "data": {
      "text/plain": [
       "2015-02-01 00:00:00    8047.858223\n",
       "2015-02-01 01:00:00    7675.654879\n",
       "2015-02-01 02:00:00    7299.062419\n",
       "2015-02-01 03:00:00    7004.656039\n",
       "2015-02-01 04:00:00    6838.612017\n",
       "Freq: H, Name: pred, dtype: float64"
      ]
     },
     "execution_count": 21,
     "metadata": {},
     "output_type": "execute_result"
    }
   ],
   "source": [
    "predictions = forecaster.predict(\n",
    "    steps=24,\n",
    "    last_window=past_data_available[\"demand\"],\n",
    "    exog=datetime_df_test,\n",
    ")\n",
    "\n",
    "predictions.head()"
   ]
  },
  {
   "cell_type": "code",
   "execution_count": 22,
   "id": "90288002",
   "metadata": {},
   "outputs": [
    {
     "data": {
      "image/png": "[encoded data removed]",
      "text/plain": [
       "<Figure size 600x300 with 1 Axes>"
      ]
     },
     "metadata": {},
     "output_type": "display_data"
    }
   ],
   "source": [
    "# Plot the forecast vs the actual\n",
    "\n",
    "fig, ax = plt.subplots(figsize=(6, 3))\n",
    "horizon[\"demand\"].plot(ax=ax, label='actuals')\n",
    "predictions.plot(ax=ax, label='predictions')\n",
    "plt.title(\"Lasso forecasting\")\n",
    "plt.ylabel('Energy demand (hourly)')\n",
    "ax.legend(bbox_to_anchor=(1.3, 1.0));"
   ]
  },
  {
   "cell_type": "code",
   "execution_count": 23,
   "id": "ff03cf73",
   "metadata": {},
   "outputs": [
    {
     "name": "stdout",
     "output_type": "stream",
     "text": [
      "Test error (mse): 266262.938369618\n"
     ]
    }
   ],
   "source": [
    "# Prediction error\n",
    "\n",
    "error_mse = mean_squared_error(\n",
    "                y_true = horizon,\n",
    "                y_pred = predictions\n",
    "            )\n",
    "\n",
    "print(f\"Test error (mse): {error_mse}\")"
   ]
  },
  {
   "cell_type": "code",
   "execution_count": 24,
   "id": "0ae0a578",
   "metadata": {},
   "outputs": [
    {
     "name": "stdout",
     "output_type": "stream",
     "text": [
      "Test error (rmse): 516.0067231825744\n"
     ]
    }
   ],
   "source": [
    "# Prediction error\n",
    "\n",
    "error_rmse = mean_squared_error(\n",
    "                y_true = horizon,\n",
    "                y_pred = predictions,\n",
    "                squared=False,\n",
    "            )\n",
    "\n",
    "print(f\"Test error (rmse): {error_rmse}\")"
   ]
  },
  {
   "cell_type": "markdown",
   "id": "57e5b810",
   "metadata": {},
   "source": [
    "## Feature importance"
   ]
  },
  {
   "cell_type": "code",
   "execution_count": 25,
   "id": "49242fa5",
   "metadata": {},
   "outputs": [
    {
     "data": {
      "image/png": "[encoded data removed]",
      "text/plain": [
       "<Figure size 640x480 with 1 Axes>"
      ]
     },
     "metadata": {},
     "output_type": "display_data"
    }
   ],
   "source": [
    "pd.Series(forecaster.regressor.named_steps[\"lasso\"].coef_,\n",
    "          index=forecaster.regressor.feature_names_in_).plot.bar()\n",
    "plt.title('Feature importance')\n",
    "plt.ylabel(\"Coefficients\")\n",
    "plt.show()"
   ]
  },
  {
   "cell_type": "code",
   "execution_count": null,
   "id": "9bc10d0c",
   "metadata": {},
   "outputs": [],
   "source": []
  }
 ],
 "metadata": {
  "kernelspec": {
   "display_name": "fwml",
   "language": "python",
   "name": "fwml"
  },
  "language_info": {
   "codemirror_mode": {
    "name": "ipython",
    "version": 3
   },
   "file_extension": ".py",
   "mimetype": "text/x-python",
   "name": "python",
   "nbconvert_exporter": "python",
   "pygments_lexer": "ipython3",
   "version": "3.10.5"
  },
  "toc": {
   "base_numbering": 1,
   "nav_menu": {},
   "number_sections": true,
   "sideBar": true,
   "skip_h1_title": false,
   "title_cell": "Table of Contents",
   "title_sidebar": "Contents",
   "toc_cell": false,
   "toc_position": {},
   "toc_section_display": true,
   "toc_window_display": false
  }
 },
 "nbformat": 4,
 "nbformat_minor": 5
}
