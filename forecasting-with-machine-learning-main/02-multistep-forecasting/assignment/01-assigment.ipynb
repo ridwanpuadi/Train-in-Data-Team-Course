{
 "cells": [
  {
   "cell_type": "markdown",
   "id": "a9b2affd",
   "metadata": {},
   "source": [
    "# Recursive forecasting\n",
    "\n",
    "[Forecasting with Machine Learning - Course](https://www.trainindata.com/p/forecasting-with-machine-learning)\n",
    "\n",
    "Load the retail sales data set located in Facebook's Prophet Github repository and use recursive forecasting to predict future sales. \n",
    "\n",
    "- We want to forecast sales over the next 3 months. \n",
    "- Sales are recorded monthly. \n",
    "- We assume that we have all data to the month before the first point in the forecasting horizon.\n",
    "\n",
    "Follow the guidelines below to accomplish this assignment.\n",
    "\n",
    "## Import required classes and functions"
   ]
  },
  {
   "cell_type": "code",
   "execution_count": 1,
   "id": "6fde7533",
   "metadata": {},
   "outputs": [],
   "source": [
    "import pandas as pd"
   ]
  },
  {
   "cell_type": "markdown",
   "id": "b50b4411",
   "metadata": {},
   "source": [
    "## Load data"
   ]
  },
  {
   "cell_type": "code",
   "execution_count": 2,
   "id": "cf8dd614",
   "metadata": {},
   "outputs": [
    {
     "data": {
      "text/html": [
       "<div>\n",
       "<style scoped>\n",
       "    .dataframe tbody tr th:only-of-type {\n",
       "        vertical-align: middle;\n",
       "    }\n",
       "\n",
       "    .dataframe tbody tr th {\n",
       "        vertical-align: top;\n",
       "    }\n",
       "\n",
       "    .dataframe thead th {\n",
       "        text-align: right;\n",
       "    }\n",
       "</style>\n",
       "<table border=\"1\" class=\"dataframe\">\n",
       "  <thead>\n",
       "    <tr style=\"text-align: right;\">\n",
       "      <th></th>\n",
       "      <th>y</th>\n",
       "    </tr>\n",
       "    <tr>\n",
       "      <th>ds</th>\n",
       "      <th></th>\n",
       "    </tr>\n",
       "  </thead>\n",
       "  <tbody>\n",
       "    <tr>\n",
       "      <th>1992-01-01</th>\n",
       "      <td>146376</td>\n",
       "    </tr>\n",
       "    <tr>\n",
       "      <th>1992-02-01</th>\n",
       "      <td>147079</td>\n",
       "    </tr>\n",
       "    <tr>\n",
       "      <th>1992-03-01</th>\n",
       "      <td>159336</td>\n",
       "    </tr>\n",
       "    <tr>\n",
       "      <th>1992-04-01</th>\n",
       "      <td>163669</td>\n",
       "    </tr>\n",
       "    <tr>\n",
       "      <th>1992-05-01</th>\n",
       "      <td>170068</td>\n",
       "    </tr>\n",
       "  </tbody>\n",
       "</table>\n",
       "</div>"
      ],
      "text/plain": [
       "                 y\n",
       "ds                \n",
       "1992-01-01  146376\n",
       "1992-02-01  147079\n",
       "1992-03-01  159336\n",
       "1992-04-01  163669\n",
       "1992-05-01  170068"
      ]
     },
     "execution_count": 2,
     "metadata": {},
     "output_type": "execute_result"
    }
   ],
   "source": [
    "url = \"https://raw.githubusercontent.com/facebook/prophet/master/examples/example_retail_sales.csv\"\n",
    "df = pd.read_csv(url)\n",
    "df.to_csv(\"example_retail_sales.csv\", index=False)\n",
    "\n",
    "df = pd.read_csv(\n",
    "    \"example_retail_sales.csv\",\n",
    "    parse_dates=[\"ds\"],\n",
    "    index_col=[\"ds\"],\n",
    "    nrows=160,\n",
    ")\n",
    "\n",
    "df= df.asfreq(\"MS\")\n",
    "\n",
    "df.head()"
   ]
  },
  {
   "cell_type": "markdown",
   "id": "d03172ab",
   "metadata": {},
   "source": [
    "## Plot time series\n",
    "\n",
    "`y` contains the volume of sales per month. Plot it and get familiar with the time series."
   ]
  },
  {
   "cell_type": "code",
   "execution_count": null,
   "id": "d77bd8b7",
   "metadata": {},
   "outputs": [],
   "source": []
  },
  {
   "cell_type": "markdown",
   "id": "92ebcc83",
   "metadata": {},
   "source": [
    "## Seasonality\n",
    "\n",
    "Check for some obvious seasonality patterns. Group time series by some time component, take the mean, and plot it."
   ]
  },
  {
   "cell_type": "code",
   "execution_count": null,
   "id": "2b42c413",
   "metadata": {},
   "outputs": [],
   "source": []
  },
  {
   "cell_type": "code",
   "execution_count": null,
   "id": "3c8aa24b",
   "metadata": {},
   "outputs": [],
   "source": []
  },
  {
   "cell_type": "markdown",
   "id": "d9ed6ee4",
   "metadata": {},
   "source": [
    "### Which obvious components does this time series show?"
   ]
  },
  {
   "cell_type": "markdown",
   "id": "a0a1b1f2",
   "metadata": {},
   "source": []
  },
  {
   "cell_type": "markdown",
   "id": "1d003eaf",
   "metadata": {},
   "source": [
    "## Split data into train and test\n",
    "\n",
    "Leave data from 2004 onwards in the test set."
   ]
  },
  {
   "cell_type": "code",
   "execution_count": null,
   "id": "5f26c24e",
   "metadata": {},
   "outputs": [],
   "source": []
  },
  {
   "cell_type": "markdown",
   "id": "caa19336",
   "metadata": {},
   "source": [
    "## Set up regression model\n",
    "\n",
    "We will use Lasso in this assignment."
   ]
  },
  {
   "cell_type": "code",
   "execution_count": null,
   "id": "ce4601c8",
   "metadata": {},
   "outputs": [],
   "source": []
  },
  {
   "cell_type": "markdown",
   "id": "9b69bbde",
   "metadata": {},
   "source": [
    "## Train a Lasso to forecast sales\n",
    "\n",
    "We'll use recursive forecasting in this assignment.\n",
    "\n",
    "You can create as many features as you want. This is your opportunity to practice what you've learned. Explore and have fun."
   ]
  },
  {
   "cell_type": "code",
   "execution_count": null,
   "id": "00908e10",
   "metadata": {},
   "outputs": [],
   "source": []
  },
  {
   "cell_type": "markdown",
   "id": "914b7abb",
   "metadata": {},
   "source": [
    "## Forecast next 3 months of sales\n",
    "\n",
    "Predict the first 3 months of sales right after the training set.\n",
    "\n",
    "That is, starting on `2002-01-01`."
   ]
  },
  {
   "cell_type": "code",
   "execution_count": null,
   "id": "76506ebc",
   "metadata": {},
   "outputs": [],
   "source": []
  },
  {
   "cell_type": "markdown",
   "id": "b6835488",
   "metadata": {},
   "source": [
    "## Plot the prediction vs real sales"
   ]
  },
  {
   "cell_type": "code",
   "execution_count": null,
   "id": "79a17dd9",
   "metadata": {},
   "outputs": [],
   "source": []
  },
  {
   "cell_type": "markdown",
   "id": "d7694b59",
   "metadata": {},
   "source": [
    "## Determine the RMSE"
   ]
  },
  {
   "cell_type": "code",
   "execution_count": null,
   "id": "a4fc612b",
   "metadata": {},
   "outputs": [],
   "source": []
  },
  {
   "cell_type": "markdown",
   "id": "75cd1579",
   "metadata": {},
   "source": [
    "## Forecast future data\n",
    "\n",
    "Forecast 3 months of sales starting on '2004-12-31'."
   ]
  },
  {
   "cell_type": "code",
   "execution_count": null,
   "id": "72f9dac4",
   "metadata": {},
   "outputs": [],
   "source": []
  },
  {
   "cell_type": "markdown",
   "id": "8c0ed573",
   "metadata": {},
   "source": [
    "## Plot the predictions vs the actuals"
   ]
  },
  {
   "cell_type": "code",
   "execution_count": null,
   "id": "d2ab8a62",
   "metadata": {},
   "outputs": [],
   "source": []
  },
  {
   "cell_type": "markdown",
   "id": "9c384bbd",
   "metadata": {},
   "source": [
    "## Determine the RMSE"
   ]
  },
  {
   "cell_type": "code",
   "execution_count": null,
   "id": "cd99d7ef",
   "metadata": {},
   "outputs": [],
   "source": []
  }
 ],
 "metadata": {
  "kernelspec": {
   "display_name": "fwml",
   "language": "python",
   "name": "fwml"
  },
  "language_info": {
   "codemirror_mode": {
    "name": "ipython",
    "version": 3
   },
   "file_extension": ".py",
   "mimetype": "text/x-python",
   "name": "python",
   "nbconvert_exporter": "python",
   "pygments_lexer": "ipython3",
   "version": "3.10.5"
  },
  "toc": {
   "base_numbering": 1,
   "nav_menu": {},
   "number_sections": true,
   "sideBar": true,
   "skip_h1_title": false,
   "title_cell": "Table of Contents",
   "title_sidebar": "Contents",
   "toc_cell": false,
   "toc_position": {},
   "toc_section_display": true,
   "toc_window_display": true
  }
 },
 "nbformat": 4,
 "nbformat_minor": 5
}
