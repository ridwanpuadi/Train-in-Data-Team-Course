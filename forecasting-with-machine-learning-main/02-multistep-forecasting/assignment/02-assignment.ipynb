{
 "cells": [
  {
   "cell_type": "markdown",
   "id": "a9b2affd",
   "metadata": {},
   "source": [
    "# Direct forecasting\n",
    "\n",
    "[Forecasting with Machine Learning - Course](https://www.trainindata.com/p/forecasting-with-machine-learning)\n",
    "\n",
    "Load the retail sales data set located in Facebook's Prophet Github repository and use **direct forecasting** to predict future sales. \n",
    "\n",
    "- We want to forecast sales over the next 3 months. \n",
    "- Sales are recorded monthly. \n",
    "- We assume that we have all data to the month before the first point in the forecasting horizon.\n",
    "\n",
    "We will forecast using Scikit-learn in this exercise.\n",
    "\n",
    "Follow the guidelines below to accomplish this assignment.\n",
    "\n",
    "## Import required classes and functions"
   ]
  },
  {
   "cell_type": "code",
   "execution_count": 1,
   "id": "6fde7533",
   "metadata": {},
   "outputs": [],
   "source": [
    "import pandas as pd"
   ]
  },
  {
   "cell_type": "markdown",
   "id": "b50b4411",
   "metadata": {},
   "source": [
    "## Load data"
   ]
  },
  {
   "cell_type": "code",
   "execution_count": 2,
   "id": "cf8dd614",
   "metadata": {},
   "outputs": [
    {
     "data": {
      "text/html": [
       "<div>\n",
       "<style scoped>\n",
       "    .dataframe tbody tr th:only-of-type {\n",
       "        vertical-align: middle;\n",
       "    }\n",
       "\n",
       "    .dataframe tbody tr th {\n",
       "        vertical-align: top;\n",
       "    }\n",
       "\n",
       "    .dataframe thead th {\n",
       "        text-align: right;\n",
       "    }\n",
       "</style>\n",
       "<table border=\"1\" class=\"dataframe\">\n",
       "  <thead>\n",
       "    <tr style=\"text-align: right;\">\n",
       "      <th></th>\n",
       "      <th>y</th>\n",
       "    </tr>\n",
       "    <tr>\n",
       "      <th>ds</th>\n",
       "      <th></th>\n",
       "    </tr>\n",
       "  </thead>\n",
       "  <tbody>\n",
       "    <tr>\n",
       "      <th>1992-01-01</th>\n",
       "      <td>146376</td>\n",
       "    </tr>\n",
       "    <tr>\n",
       "      <th>1992-02-01</th>\n",
       "      <td>147079</td>\n",
       "    </tr>\n",
       "    <tr>\n",
       "      <th>1992-03-01</th>\n",
       "      <td>159336</td>\n",
       "    </tr>\n",
       "    <tr>\n",
       "      <th>1992-04-01</th>\n",
       "      <td>163669</td>\n",
       "    </tr>\n",
       "    <tr>\n",
       "      <th>1992-05-01</th>\n",
       "      <td>170068</td>\n",
       "    </tr>\n",
       "  </tbody>\n",
       "</table>\n",
       "</div>"
      ],
      "text/plain": [
       "                 y\n",
       "ds                \n",
       "1992-01-01  146376\n",
       "1992-02-01  147079\n",
       "1992-03-01  159336\n",
       "1992-04-01  163669\n",
       "1992-05-01  170068"
      ]
     },
     "execution_count": 2,
     "metadata": {},
     "output_type": "execute_result"
    }
   ],
   "source": [
    "url = \"https://raw.githubusercontent.com/facebook/prophet/master/examples/example_retail_sales.csv\"\n",
    "df = pd.read_csv(url)\n",
    "df.to_csv(\"example_retail_sales.csv\", index=False)\n",
    "\n",
    "df = pd.read_csv(\n",
    "    \"example_retail_sales.csv\",\n",
    "    parse_dates=[\"ds\"],\n",
    "    index_col=[\"ds\"],\n",
    "    nrows=160,\n",
    ")\n",
    "\n",
    "df = df.asfreq(\"MS\")\n",
    "\n",
    "df.head()"
   ]
  },
  {
   "cell_type": "markdown",
   "id": "d03172ab",
   "metadata": {},
   "source": [
    "## Create the target variable\n",
    "\n",
    "In direct forecasting, we train a model per step. Hence, we need to create 1 target per step."
   ]
  },
  {
   "cell_type": "code",
   "execution_count": null,
   "id": "d77bd8b7",
   "metadata": {},
   "outputs": [],
   "source": []
  },
  {
   "cell_type": "markdown",
   "id": "1d003eaf",
   "metadata": {},
   "source": [
    "## Split data into train and test\n",
    "\n",
    "Leave data from 2004 onwards in the test set."
   ]
  },
  {
   "cell_type": "code",
   "execution_count": null,
   "id": "5f26c24e",
   "metadata": {},
   "outputs": [],
   "source": []
  },
  {
   "cell_type": "markdown",
   "id": "caa19336",
   "metadata": {},
   "source": [
    "## Set up regression model\n",
    "\n",
    "We will use Lasso in this assignment."
   ]
  },
  {
   "cell_type": "code",
   "execution_count": null,
   "id": "c61e6218",
   "metadata": {},
   "outputs": [],
   "source": []
  },
  {
   "cell_type": "markdown",
   "id": "9b69bbde",
   "metadata": {},
   "source": [
    "## Set up a feature engineering pipeline\n",
    "\n",
    "Set up transformers from feature-engine and / or scikit- learn in a pipeline and test it to make sure the input feature table is the one you need for the forecasts.\n",
    "\n",
    "We will use feature-engine because we are great fans of the library.\n",
    "\n",
    "If you prefer pandas, as long as the input feature table is the one you expect, that is also a suitable alternative."
   ]
  },
  {
   "cell_type": "code",
   "execution_count": null,
   "id": "00908e10",
   "metadata": {},
   "outputs": [],
   "source": []
  },
  {
   "cell_type": "markdown",
   "id": "721fb6aa",
   "metadata": {},
   "source": [
    "## Test pipeline over test set\n",
    "\n",
    "Ensure that the returned input feature table is suitable to forecast from `2004-01-01` onwards."
   ]
  },
  {
   "cell_type": "code",
   "execution_count": null,
   "id": "84aee4f3",
   "metadata": {},
   "outputs": [],
   "source": []
  },
  {
   "cell_type": "markdown",
   "id": "3132210a",
   "metadata": {},
   "source": [
    "## Train a recursive forecaster\n",
    "\n",
    "Now that we know that the pipeline works, we can train the forecaster.\n",
    "\n",
    "You can take the feature table and target returned up to here to train the Lasso. \n",
    "\n",
    "Or, as we will do, you can add the Lasso within the pipeline."
   ]
  },
  {
   "cell_type": "code",
   "execution_count": null,
   "id": "8a120faf",
   "metadata": {},
   "outputs": [],
   "source": []
  },
  {
   "cell_type": "markdown",
   "id": "886f78c8",
   "metadata": {},
   "source": [
    "# Forecast 3 months of sales\n",
    "\n",
    "We'll start by forecasting 3 months of sales, starting at every single point of the test set.\n",
    "\n",
    "This is the equivalent of backtesting without refit. More info in section 6!!"
   ]
  },
  {
   "cell_type": "code",
   "execution_count": null,
   "id": "1cde1862",
   "metadata": {},
   "outputs": [],
   "source": []
  },
  {
   "cell_type": "markdown",
   "id": "578c60c4",
   "metadata": {},
   "source": [
    "## Plot predictions vs actuals\n",
    "\n",
    "Pick the first row of predictions and plot them against the real sales."
   ]
  },
  {
   "cell_type": "code",
   "execution_count": null,
   "id": "778c7bd5",
   "metadata": {},
   "outputs": [],
   "source": []
  },
  {
   "cell_type": "markdown",
   "id": "528988f7",
   "metadata": {},
   "source": [
    "## Determine the RMSE\n",
    "\n",
    "Pick the first row of predictions and calculate the RMSE"
   ]
  },
  {
   "cell_type": "code",
   "execution_count": null,
   "id": "67408586",
   "metadata": {},
   "outputs": [],
   "source": []
  },
  {
   "cell_type": "markdown",
   "id": "914b7abb",
   "metadata": {},
   "source": [
    "## Forecast next 3 months of sales\n",
    "\n",
    "Predict the first 3 months of sales right after the end of the test set.\n",
    "\n",
    "That is, starting on `2005-02-02`."
   ]
  },
  {
   "cell_type": "code",
   "execution_count": null,
   "id": "9c4f46ac",
   "metadata": {},
   "outputs": [],
   "source": []
  }
 ],
 "metadata": {
  "kernelspec": {
   "display_name": "fwml",
   "language": "python",
   "name": "fwml"
  },
  "language_info": {
   "codemirror_mode": {
    "name": "ipython",
    "version": 3
   },
   "file_extension": ".py",
   "mimetype": "text/x-python",
   "name": "python",
   "nbconvert_exporter": "python",
   "pygments_lexer": "ipython3",
   "version": "3.10.5"
  },
  "toc": {
   "base_numbering": 1,
   "nav_menu": {},
   "number_sections": true,
   "sideBar": true,
   "skip_h1_title": false,
   "title_cell": "Table of Contents",
   "title_sidebar": "Contents",
   "toc_cell": false,
   "toc_position": {},
   "toc_section_display": true,
   "toc_window_display": true
  }
 },
 "nbformat": 4,
 "nbformat_minor": 5
}
