{
 "cells": [
  {
   "cell_type": "markdown",
   "id": "96b946c1",
   "metadata": {},
   "source": [
    "# Recursive Forecasting with machine learning\n",
    "\n",
    "[Forecasting with Machine Learning - Course](https://www.trainindata.com/p/forecasting-with-machine-learning)\n",
    "\n",
    "In this notebook, we carry out **recursive forecasting** to predict multiple steps into the future by using gradient boosting machines for regression.\n",
    "\n",
    "SKForecast produces lags out of the box. But we can combine SKForecast with Feature-engine and other libraries to create more features."
   ]
  },
  {
   "cell_type": "code",
   "execution_count": 1,
   "id": "6b1c7ede",
   "metadata": {},
   "outputs": [],
   "source": [
    "import numpy as np\n",
    "import matplotlib.pyplot as plt\n",
    "import pandas as pd\n",
    "\n",
    "from sklearn.ensemble import GradientBoostingRegressor\n",
    "from sklearn.metrics import mean_squared_error\n",
    "\n",
    "from skforecast.ForecasterAutoregCustom import ForecasterAutoregCustom"
   ]
  },
  {
   "cell_type": "markdown",
   "id": "50371561",
   "metadata": {},
   "source": [
    "# Load data\n",
    "\n",
    "We will use the electricity demand dataset found [here](https://github.com/tidyverts/tsibbledata/tree/master/data-raw/vic_elec/VIC2015).\n",
    "\n",
    "**Citation:**\n",
    "\n",
    "Godahewa, Rakshitha, Bergmeir, Christoph, Webb, Geoff, Hyndman, Rob, & Montero-Manso, Pablo. (2021). Australian Electricity Demand Dataset (Version 1) [Data set]. Zenodo. https://doi.org/10.5281/zenodo.4659727\n",
    "\n",
    "**Description of data:**\n",
    "\n",
    "A description of the data can be found [here](https://rdrr.io/cran/tsibbledata/man/vic_elec.html). The data contains electricity demand in Victoria, Australia, at 30 minute intervals over a period of 12 years, from 2002 to early 2015. There is also the temperature in Melbourne at 30 minute intervals and public holiday dates."
   ]
  },
  {
   "cell_type": "code",
   "execution_count": 2,
   "id": "8b09fa59",
   "metadata": {},
   "outputs": [
    {
     "data": {
      "text/html": [
       "<div>\n",
       "<style scoped>\n",
       "    .dataframe tbody tr th:only-of-type {\n",
       "        vertical-align: middle;\n",
       "    }\n",
       "\n",
       "    .dataframe tbody tr th {\n",
       "        vertical-align: top;\n",
       "    }\n",
       "\n",
       "    .dataframe thead th {\n",
       "        text-align: right;\n",
       "    }\n",
       "</style>\n",
       "<table border=\"1\" class=\"dataframe\">\n",
       "  <thead>\n",
       "    <tr style=\"text-align: right;\">\n",
       "      <th></th>\n",
       "      <th>demand</th>\n",
       "    </tr>\n",
       "    <tr>\n",
       "      <th>date_time</th>\n",
       "      <th></th>\n",
       "    </tr>\n",
       "  </thead>\n",
       "  <tbody>\n",
       "    <tr>\n",
       "      <th>2002-01-01 00:00:00</th>\n",
       "      <td>6919.366092</td>\n",
       "    </tr>\n",
       "    <tr>\n",
       "      <th>2002-01-01 01:00:00</th>\n",
       "      <td>7165.974188</td>\n",
       "    </tr>\n",
       "    <tr>\n",
       "      <th>2002-01-01 02:00:00</th>\n",
       "      <td>6406.542994</td>\n",
       "    </tr>\n",
       "    <tr>\n",
       "      <th>2002-01-01 03:00:00</th>\n",
       "      <td>5815.537828</td>\n",
       "    </tr>\n",
       "    <tr>\n",
       "      <th>2002-01-01 04:00:00</th>\n",
       "      <td>5497.732922</td>\n",
       "    </tr>\n",
       "  </tbody>\n",
       "</table>\n",
       "</div>"
      ],
      "text/plain": [
       "                          demand\n",
       "date_time                       \n",
       "2002-01-01 00:00:00  6919.366092\n",
       "2002-01-01 01:00:00  7165.974188\n",
       "2002-01-01 02:00:00  6406.542994\n",
       "2002-01-01 03:00:00  5815.537828\n",
       "2002-01-01 04:00:00  5497.732922"
      ]
     },
     "execution_count": 2,
     "metadata": {},
     "output_type": "execute_result"
    }
   ],
   "source": [
    "# Electricity demand.\n",
    "url = \"https://raw.githubusercontent.com/tidyverts/tsibbledata/master/data-raw/vic_elec/VIC2015/demand.csv\"\n",
    "df = pd.read_csv(url)\n",
    "\n",
    "df.drop(columns=[\"Industrial\"], inplace=True)\n",
    "\n",
    "# Convert the integer Date to an actual date with datetime type\n",
    "df[\"date\"] = df[\"Date\"].apply(\n",
    "    lambda x: pd.Timestamp(\"1899-12-30\") + pd.Timedelta(x, unit=\"days\")\n",
    ")\n",
    "\n",
    "# Create a timestamp from the integer Period representing 30 minute intervals\n",
    "df[\"date_time\"] = df[\"date\"] + \\\n",
    "    pd.to_timedelta((df[\"Period\"] - 1) * 30, unit=\"m\")\n",
    "\n",
    "df.dropna(inplace=True)\n",
    "\n",
    "# Rename columns\n",
    "df = df[[\"date_time\", \"OperationalLessIndustrial\"]]\n",
    "\n",
    "df.columns = [\"date_time\", \"demand\"]\n",
    "\n",
    "# Resample to hourly\n",
    "df = (\n",
    "    df.set_index(\"date_time\")\n",
    "    .resample(\"H\")\n",
    "    .agg({\"demand\": \"sum\"})\n",
    ")\n",
    "\n",
    "df.head()"
   ]
  },
  {
   "cell_type": "code",
   "execution_count": 3,
   "id": "baa2bbc2",
   "metadata": {},
   "outputs": [
    {
     "data": {
      "text/html": [
       "<div>\n",
       "<style scoped>\n",
       "    .dataframe tbody tr th:only-of-type {\n",
       "        vertical-align: middle;\n",
       "    }\n",
       "\n",
       "    .dataframe tbody tr th {\n",
       "        vertical-align: top;\n",
       "    }\n",
       "\n",
       "    .dataframe thead th {\n",
       "        text-align: right;\n",
       "    }\n",
       "</style>\n",
       "<table border=\"1\" class=\"dataframe\">\n",
       "  <thead>\n",
       "    <tr style=\"text-align: right;\">\n",
       "      <th></th>\n",
       "      <th>demand</th>\n",
       "    </tr>\n",
       "    <tr>\n",
       "      <th>date_time</th>\n",
       "      <th></th>\n",
       "    </tr>\n",
       "  </thead>\n",
       "  <tbody>\n",
       "    <tr>\n",
       "      <th>2015-02-28 19:00:00</th>\n",
       "      <td>9596.777060</td>\n",
       "    </tr>\n",
       "    <tr>\n",
       "      <th>2015-02-28 20:00:00</th>\n",
       "      <td>8883.230296</td>\n",
       "    </tr>\n",
       "    <tr>\n",
       "      <th>2015-02-28 21:00:00</th>\n",
       "      <td>8320.260550</td>\n",
       "    </tr>\n",
       "    <tr>\n",
       "      <th>2015-02-28 22:00:00</th>\n",
       "      <td>8110.055916</td>\n",
       "    </tr>\n",
       "    <tr>\n",
       "      <th>2015-02-28 23:00:00</th>\n",
       "      <td>8519.368752</td>\n",
       "    </tr>\n",
       "  </tbody>\n",
       "</table>\n",
       "</div>"
      ],
      "text/plain": [
       "                          demand\n",
       "date_time                       \n",
       "2015-02-28 19:00:00  9596.777060\n",
       "2015-02-28 20:00:00  8883.230296\n",
       "2015-02-28 21:00:00  8320.260550\n",
       "2015-02-28 22:00:00  8110.055916\n",
       "2015-02-28 23:00:00  8519.368752"
      ]
     },
     "execution_count": 3,
     "metadata": {},
     "output_type": "execute_result"
    }
   ],
   "source": [
    "df.tail()"
   ]
  },
  {
   "cell_type": "code",
   "execution_count": 4,
   "id": "5ea042aa",
   "metadata": {},
   "outputs": [],
   "source": [
    "# Split into train and test\n",
    "\n",
    "# We leave the last February in the test set\n",
    "\n",
    "end_train = '2014-12-31 23:59:59'\n",
    "X_train = df.loc[:end_train]\n",
    "X_test  = df.loc[end_train:]"
   ]
  },
  {
   "cell_type": "markdown",
   "id": "d5535946",
   "metadata": {},
   "source": [
    "## Plot time series"
   ]
  },
  {
   "cell_type": "code",
   "execution_count": 5,
   "id": "a7ab8c0d",
   "metadata": {},
   "outputs": [
    {
     "data": {
      "image/png": "[encoded data removed]",
      "text/plain": [
       "<Figure size 700x300 with 1 Axes>"
      ]
     },
     "metadata": {},
     "output_type": "display_data"
    }
   ],
   "source": [
    "fig, ax = plt.subplots(figsize=(7, 3))\n",
    "X_train.tail(500).plot(ax=ax)\n",
    "X_test.head(500).plot(ax=ax)\n",
    "ax.set_title('Hourly energy consumption.')\n",
    "ax.legend([\"train\", \"test\"])\n",
    "plt.show()"
   ]
  },
  {
   "cell_type": "markdown",
   "id": "a384443e",
   "metadata": {},
   "source": [
    "## Regression model"
   ]
  },
  {
   "cell_type": "code",
   "execution_count": 6,
   "id": "5ddc5f94",
   "metadata": {},
   "outputs": [],
   "source": [
    "model = GradientBoostingRegressor(random_state=9, max_depth=3) "
   ]
  },
  {
   "cell_type": "markdown",
   "id": "d2296fd2",
   "metadata": {},
   "source": [
    "## Window features\n",
    "\n",
    "To add window features we need to create a function that creates those features."
   ]
  },
  {
   "cell_type": "code",
   "execution_count": 7,
   "id": "6aef92e6",
   "metadata": {},
   "outputs": [],
   "source": [
    "def create_window_features(y):\n",
    "    \n",
    "    # lag features\n",
    "    lags = y[-1:-11:-1]        # window_size = 10\n",
    "\n",
    "#     # if I wanted to create a specific lag:\n",
    "#     lag_5 = y[-5:-4]           # lag 5\n",
    "    \n",
    "    # windows features\n",
    "    mean_3 = np.mean(y[-3:])   # window_size = 3\n",
    "    mean_24 = np.mean(y[-24:]) # window_size = 24\n",
    "    \n",
    "    # put all together\n",
    "    predictors = np.hstack([lags, mean_3, mean_24])\n",
    "\n",
    "    return predictors"
   ]
  },
  {
   "cell_type": "code",
   "execution_count": 8,
   "id": "6e65f922",
   "metadata": {},
   "outputs": [
    {
     "data": {
      "text/plain": [
       "0      0\n",
       "1      1\n",
       "2      2\n",
       "3      3\n",
       "4      4\n",
       "5      5\n",
       "6      6\n",
       "7      7\n",
       "8      8\n",
       "9      9\n",
       "10    10\n",
       "dtype: int64"
      ]
     },
     "execution_count": 8,
     "metadata": {},
     "output_type": "execute_result"
    }
   ],
   "source": [
    "# create test series\n",
    "\n",
    "ser = pd.Series([0,1,2,3,4,5,6,7,8,9,10])\n",
    "ser"
   ]
  },
  {
   "cell_type": "code",
   "execution_count": 9,
   "id": "486cb4b7",
   "metadata": {},
   "outputs": [
    {
     "data": {
      "text/plain": [
       "array([10.,  9.,  8.,  7.,  6.,  5.,  4.,  3.,  2.,  1.,  9.,  5.])"
      ]
     },
     "execution_count": 9,
     "metadata": {},
     "output_type": "execute_result"
    }
   ],
   "source": [
    "# test the function\n",
    "\n",
    "create_window_features(ser)"
   ]
  },
  {
   "cell_type": "markdown",
   "id": "15bd7a66",
   "metadata": {},
   "source": [
    "We see the 10 lags and the 2 averages."
   ]
  },
  {
   "cell_type": "code",
   "execution_count": 10,
   "id": "f9f5b77a",
   "metadata": {},
   "outputs": [
    {
     "data": {
      "text/plain": [
       "['lag_1',\n",
       " 'lag_2',\n",
       " 'lag_3',\n",
       " 'lag_4',\n",
       " 'lag_5',\n",
       " 'lag_6',\n",
       " 'lag_7',\n",
       " 'lag_8',\n",
       " 'lag_9',\n",
       " 'lag_10',\n",
       " 'mean_3',\n",
       " 'mean_24']"
      ]
     },
     "execution_count": 10,
     "metadata": {},
     "output_type": "execute_result"
    }
   ],
   "source": [
    "# create some names for those new features\n",
    "\n",
    "feature_names = [f\"lag_{i}\" for i in range(1, 11)] + [\n",
    "    \"mean_3\",\n",
    "    \"mean_24\",\n",
    "]\n",
    "\n",
    "feature_names"
   ]
  },
  {
   "cell_type": "markdown",
   "id": "4f6e33da",
   "metadata": {},
   "source": [
    "## Recursive forecaster"
   ]
  },
  {
   "cell_type": "code",
   "execution_count": 11,
   "id": "6f528256",
   "metadata": {},
   "outputs": [],
   "source": [
    "# set up forecaster\n",
    "\n",
    "forecaster = ForecasterAutoregCustom(\n",
    "    regressor=model,          # the machine learning model\n",
    "    fun_predictors=create_window_features,\n",
    "    window_size=24,           # the size for the biggest window\n",
    "    name_predictors=feature_names,\n",
    "    forecaster_id=\"recursive\"\n",
    ")"
   ]
  },
  {
   "cell_type": "code",
   "execution_count": 12,
   "id": "c3d95c7d",
   "metadata": {},
   "outputs": [
    {
     "data": {
      "text/plain": [
       "======================= \n",
       "ForecasterAutoregCustom \n",
       "======================= \n",
       "Regressor: GradientBoostingRegressor(random_state=9) \n",
       "Predictors created with function: create_window_features \n",
       "Transformer for y: None \n",
       "Transformer for exog: None \n",
       "Window size: 24 \n",
       "Weight function included: False \n",
       "Differentiation order: None \n",
       "Exogenous included: False \n",
       "Type of exogenous variable: None \n",
       "Exogenous variables names: None \n",
       "Training range: [Timestamp('2002-01-01 00:00:00'), Timestamp('2014-12-31 23:00:00')] \n",
       "Training index type: DatetimeIndex \n",
       "Training index frequency: H \n",
       "Regressor parameters: {'alpha': 0.9, 'ccp_alpha': 0.0, 'criterion': 'friedman_mse', 'init': None, 'learning_rate': 0.1, 'loss': 'squared_error', 'max_depth': 3, 'max_features': None, 'max_leaf_nodes': None, 'min_impurity_decrease': 0.0, 'min_samples_leaf': 1, 'min_samples_split': 2, 'min_weight_fraction_leaf': 0.0, 'n_estimators': 100, 'n_iter_no_change': None, 'random_state': 9, 'subsample': 1.0, 'tol': 0.0001, 'validation_fraction': 0.1, 'verbose': 0, 'warm_start': False} \n",
       "fit_kwargs: {} \n",
       "Creation date: 2024-03-05 10:41:25 \n",
       "Last fit date: 2024-03-05 10:44:19 \n",
       "Skforecast version: 0.12.0 \n",
       "Python version: 3.10.5 \n",
       "Forecaster id: recursive "
      ]
     },
     "execution_count": 12,
     "metadata": {},
     "output_type": "execute_result"
    }
   ],
   "source": [
    "# train the forecaster\n",
    "\n",
    "forecaster.fit(\n",
    "    y=X_train[\"demand\"], # the series for the lags\n",
    ")\n",
    "\n",
    "forecaster"
   ]
  },
  {
   "cell_type": "markdown",
   "id": "28569251",
   "metadata": {},
   "source": [
    "## Input features to regression\n",
    "\n",
    "Be mindful to pass exactly the same data (y and exog if any) that you passed to fit. Otherwise, it will return something different!!!"
   ]
  },
  {
   "cell_type": "code",
   "execution_count": 13,
   "id": "98ed1399",
   "metadata": {},
   "outputs": [
    {
     "data": {
      "text/html": [
       "<div>\n",
       "<style scoped>\n",
       "    .dataframe tbody tr th:only-of-type {\n",
       "        vertical-align: middle;\n",
       "    }\n",
       "\n",
       "    .dataframe tbody tr th {\n",
       "        vertical-align: top;\n",
       "    }\n",
       "\n",
       "    .dataframe thead th {\n",
       "        text-align: right;\n",
       "    }\n",
       "</style>\n",
       "<table border=\"1\" class=\"dataframe\">\n",
       "  <thead>\n",
       "    <tr style=\"text-align: right;\">\n",
       "      <th></th>\n",
       "      <th>lag_1</th>\n",
       "      <th>lag_2</th>\n",
       "      <th>lag_3</th>\n",
       "      <th>lag_4</th>\n",
       "      <th>lag_5</th>\n",
       "      <th>lag_6</th>\n",
       "      <th>lag_7</th>\n",
       "      <th>lag_8</th>\n",
       "      <th>lag_9</th>\n",
       "      <th>lag_10</th>\n",
       "      <th>mean_3</th>\n",
       "      <th>mean_24</th>\n",
       "    </tr>\n",
       "    <tr>\n",
       "      <th>date_time</th>\n",
       "      <th></th>\n",
       "      <th></th>\n",
       "      <th></th>\n",
       "      <th></th>\n",
       "      <th></th>\n",
       "      <th></th>\n",
       "      <th></th>\n",
       "      <th></th>\n",
       "      <th></th>\n",
       "      <th></th>\n",
       "      <th></th>\n",
       "      <th></th>\n",
       "    </tr>\n",
       "  </thead>\n",
       "  <tbody>\n",
       "    <tr>\n",
       "      <th>2002-01-02 00:00:00</th>\n",
       "      <td>6863.872344</td>\n",
       "      <td>6015.750184</td>\n",
       "      <td>6255.765294</td>\n",
       "      <td>6628.839522</td>\n",
       "      <td>6509.902582</td>\n",
       "      <td>6400.844422</td>\n",
       "      <td>6527.011842</td>\n",
       "      <td>6490.669762</td>\n",
       "      <td>6221.417302</td>\n",
       "      <td>6013.496578</td>\n",
       "      <td>6378.462607</td>\n",
       "      <td>6172.564058</td>\n",
       "    </tr>\n",
       "    <tr>\n",
       "      <th>2002-01-02 01:00:00</th>\n",
       "      <td>6579.219880</td>\n",
       "      <td>6863.872344</td>\n",
       "      <td>6015.750184</td>\n",
       "      <td>6255.765294</td>\n",
       "      <td>6628.839522</td>\n",
       "      <td>6509.902582</td>\n",
       "      <td>6400.844422</td>\n",
       "      <td>6527.011842</td>\n",
       "      <td>6490.669762</td>\n",
       "      <td>6221.417302</td>\n",
       "      <td>6486.280803</td>\n",
       "      <td>6158.391299</td>\n",
       "    </tr>\n",
       "    <tr>\n",
       "      <th>2002-01-02 02:00:00</th>\n",
       "      <td>6990.826420</td>\n",
       "      <td>6579.219880</td>\n",
       "      <td>6863.872344</td>\n",
       "      <td>6015.750184</td>\n",
       "      <td>6255.765294</td>\n",
       "      <td>6628.839522</td>\n",
       "      <td>6509.902582</td>\n",
       "      <td>6400.844422</td>\n",
       "      <td>6527.011842</td>\n",
       "      <td>6490.669762</td>\n",
       "      <td>6811.306215</td>\n",
       "      <td>6151.093475</td>\n",
       "    </tr>\n",
       "    <tr>\n",
       "      <th>2002-01-02 03:00:00</th>\n",
       "      <td>6382.915018</td>\n",
       "      <td>6990.826420</td>\n",
       "      <td>6579.219880</td>\n",
       "      <td>6863.872344</td>\n",
       "      <td>6015.750184</td>\n",
       "      <td>6255.765294</td>\n",
       "      <td>6628.839522</td>\n",
       "      <td>6509.902582</td>\n",
       "      <td>6400.844422</td>\n",
       "      <td>6527.011842</td>\n",
       "      <td>6650.987106</td>\n",
       "      <td>6150.108976</td>\n",
       "    </tr>\n",
       "    <tr>\n",
       "      <th>2002-01-02 04:00:00</th>\n",
       "      <td>5896.928138</td>\n",
       "      <td>6382.915018</td>\n",
       "      <td>6990.826420</td>\n",
       "      <td>6579.219880</td>\n",
       "      <td>6863.872344</td>\n",
       "      <td>6015.750184</td>\n",
       "      <td>6255.765294</td>\n",
       "      <td>6628.839522</td>\n",
       "      <td>6509.902582</td>\n",
       "      <td>6400.844422</td>\n",
       "      <td>6423.556525</td>\n",
       "      <td>6153.500239</td>\n",
       "    </tr>\n",
       "  </tbody>\n",
       "</table>\n",
       "</div>"
      ],
      "text/plain": [
       "                           lag_1        lag_2        lag_3        lag_4  \\\n",
       "date_time                                                                 \n",
       "2002-01-02 00:00:00  6863.872344  6015.750184  6255.765294  6628.839522   \n",
       "2002-01-02 01:00:00  6579.219880  6863.872344  6015.750184  6255.765294   \n",
       "2002-01-02 02:00:00  6990.826420  6579.219880  6863.872344  6015.750184   \n",
       "2002-01-02 03:00:00  6382.915018  6990.826420  6579.219880  6863.872344   \n",
       "2002-01-02 04:00:00  5896.928138  6382.915018  6990.826420  6579.219880   \n",
       "\n",
       "                           lag_5        lag_6        lag_7        lag_8  \\\n",
       "date_time                                                                 \n",
       "2002-01-02 00:00:00  6509.902582  6400.844422  6527.011842  6490.669762   \n",
       "2002-01-02 01:00:00  6628.839522  6509.902582  6400.844422  6527.011842   \n",
       "2002-01-02 02:00:00  6255.765294  6628.839522  6509.902582  6400.844422   \n",
       "2002-01-02 03:00:00  6015.750184  6255.765294  6628.839522  6509.902582   \n",
       "2002-01-02 04:00:00  6863.872344  6015.750184  6255.765294  6628.839522   \n",
       "\n",
       "                           lag_9       lag_10       mean_3      mean_24  \n",
       "date_time                                                                \n",
       "2002-01-02 00:00:00  6221.417302  6013.496578  6378.462607  6172.564058  \n",
       "2002-01-02 01:00:00  6490.669762  6221.417302  6486.280803  6158.391299  \n",
       "2002-01-02 02:00:00  6527.011842  6490.669762  6811.306215  6151.093475  \n",
       "2002-01-02 03:00:00  6400.844422  6527.011842  6650.987106  6150.108976  \n",
       "2002-01-02 04:00:00  6509.902582  6400.844422  6423.556525  6153.500239  "
      ]
     },
     "execution_count": 13,
     "metadata": {},
     "output_type": "execute_result"
    }
   ],
   "source": [
    "# return the data that was used to train the model\n",
    "\n",
    "X_tmp, y_tmp = forecaster.create_train_X_y(\n",
    "    y=X_train[\"demand\"],\n",
    ")\n",
    "\n",
    "X_tmp.head()"
   ]
  },
  {
   "cell_type": "code",
   "execution_count": 14,
   "id": "cdb5e8af",
   "metadata": {},
   "outputs": [
    {
     "data": {
      "text/plain": [
       "date_time\n",
       "2002-01-02 00:00:00    6579.219880\n",
       "2002-01-02 01:00:00    6990.826420\n",
       "2002-01-02 02:00:00    6382.915018\n",
       "2002-01-02 03:00:00    5896.928138\n",
       "2002-01-02 04:00:00    5853.937140\n",
       "Freq: H, Name: y, dtype: float64"
      ]
     },
     "execution_count": 14,
     "metadata": {},
     "output_type": "execute_result"
    }
   ],
   "source": [
    "y_tmp.head()"
   ]
  },
  {
   "cell_type": "code",
   "execution_count": 15,
   "id": "18403144",
   "metadata": {},
   "outputs": [
    {
     "data": {
      "text/plain": [
       "6378.462607333334"
      ]
     },
     "execution_count": 15,
     "metadata": {},
     "output_type": "execute_result"
    }
   ],
   "source": [
    "# double check that the windows are well calculated \n",
    "# and well placed\n",
    "\n",
    "(6255.765294 + 6015.750184 + 6863.872344) / 3"
   ]
  },
  {
   "cell_type": "code",
   "execution_count": 16,
   "id": "fd69494b",
   "metadata": {},
   "outputs": [
    {
     "data": {
      "text/html": [
       "<div>\n",
       "<style scoped>\n",
       "    .dataframe tbody tr th:only-of-type {\n",
       "        vertical-align: middle;\n",
       "    }\n",
       "\n",
       "    .dataframe tbody tr th {\n",
       "        vertical-align: top;\n",
       "    }\n",
       "\n",
       "    .dataframe thead th {\n",
       "        text-align: right;\n",
       "    }\n",
       "</style>\n",
       "<table border=\"1\" class=\"dataframe\">\n",
       "  <thead>\n",
       "    <tr style=\"text-align: right;\">\n",
       "      <th></th>\n",
       "      <th>demand</th>\n",
       "    </tr>\n",
       "    <tr>\n",
       "      <th>date_time</th>\n",
       "      <th></th>\n",
       "    </tr>\n",
       "  </thead>\n",
       "  <tbody>\n",
       "    <tr>\n",
       "      <th>2002-01-01 21:00:00</th>\n",
       "      <td>6255.765294</td>\n",
       "    </tr>\n",
       "    <tr>\n",
       "      <th>2002-01-01 22:00:00</th>\n",
       "      <td>6015.750184</td>\n",
       "    </tr>\n",
       "    <tr>\n",
       "      <th>2002-01-01 23:00:00</th>\n",
       "      <td>6863.872344</td>\n",
       "    </tr>\n",
       "    <tr>\n",
       "      <th>2002-01-02 00:00:00</th>\n",
       "      <td>6579.219880</td>\n",
       "    </tr>\n",
       "    <tr>\n",
       "      <th>2002-01-02 01:00:00</th>\n",
       "      <td>6990.826420</td>\n",
       "    </tr>\n",
       "    <tr>\n",
       "      <th>2002-01-02 02:00:00</th>\n",
       "      <td>6382.915018</td>\n",
       "    </tr>\n",
       "    <tr>\n",
       "      <th>2002-01-02 03:00:00</th>\n",
       "      <td>5896.928138</td>\n",
       "    </tr>\n",
       "    <tr>\n",
       "      <th>2002-01-02 04:00:00</th>\n",
       "      <td>5853.937140</td>\n",
       "    </tr>\n",
       "    <tr>\n",
       "      <th>2002-01-02 05:00:00</th>\n",
       "      <td>6344.834628</td>\n",
       "    </tr>\n",
       "    <tr>\n",
       "      <th>2002-01-02 06:00:00</th>\n",
       "      <td>7136.749228</td>\n",
       "    </tr>\n",
       "  </tbody>\n",
       "</table>\n",
       "</div>"
      ],
      "text/plain": [
       "                          demand\n",
       "date_time                       \n",
       "2002-01-01 21:00:00  6255.765294\n",
       "2002-01-01 22:00:00  6015.750184\n",
       "2002-01-01 23:00:00  6863.872344\n",
       "2002-01-02 00:00:00  6579.219880\n",
       "2002-01-02 01:00:00  6990.826420\n",
       "2002-01-02 02:00:00  6382.915018\n",
       "2002-01-02 03:00:00  5896.928138\n",
       "2002-01-02 04:00:00  5853.937140\n",
       "2002-01-02 05:00:00  6344.834628\n",
       "2002-01-02 06:00:00  7136.749228"
      ]
     },
     "execution_count": 16,
     "metadata": {},
     "output_type": "execute_result"
    }
   ],
   "source": [
    "# to undestand what's going on, let's plot\n",
    "# the values of y a few times before the start\n",
    "# of the train set\n",
    "\n",
    "X_train.loc[\"2002-01-01 21:00:00\":].head(10)"
   ]
  },
  {
   "cell_type": "markdown",
   "id": "109117b3",
   "metadata": {},
   "source": [
    "## Predict future data\n",
    "\n",
    "We'll start by predicting the 24 hs right after the train set ends."
   ]
  },
  {
   "cell_type": "code",
   "execution_count": 17,
   "id": "3df411f4",
   "metadata": {},
   "outputs": [
    {
     "data": {
      "text/plain": [
       "2015-01-01 00:00:00    8716.310518\n",
       "2015-01-01 01:00:00    9335.848960\n",
       "2015-01-01 02:00:00    9348.957374\n",
       "2015-01-01 03:00:00    9237.150705\n",
       "2015-01-01 04:00:00    9038.490323\n",
       "2015-01-01 05:00:00    8871.650168\n",
       "2015-01-01 06:00:00    8707.099717\n",
       "2015-01-01 07:00:00    8623.982482\n",
       "2015-01-01 08:00:00    8500.484161\n",
       "2015-01-01 09:00:00    8330.808313\n",
       "2015-01-01 10:00:00    8129.938562\n",
       "2015-01-01 11:00:00    7959.521815\n",
       "2015-01-01 12:00:00    7855.850858\n",
       "2015-01-01 13:00:00    7746.445483\n",
       "2015-01-01 14:00:00    7719.387610\n",
       "2015-01-01 15:00:00    7681.334430\n",
       "2015-01-01 16:00:00    7658.636905\n",
       "2015-01-01 17:00:00    7673.242245\n",
       "2015-01-01 18:00:00    7722.505907\n",
       "2015-01-01 19:00:00    7813.867949\n",
       "2015-01-01 20:00:00    7813.867949\n",
       "2015-01-01 21:00:00    7774.244843\n",
       "2015-01-01 22:00:00    7727.645388\n",
       "2015-01-01 23:00:00    7744.306890\n",
       "Freq: H, Name: pred, dtype: float64"
      ]
     },
     "execution_count": 17,
     "metadata": {},
     "output_type": "execute_result"
    }
   ],
   "source": [
    "preds = forecaster.predict(\n",
    "    steps=24,\n",
    ")\n",
    "\n",
    "preds"
   ]
  },
  {
   "cell_type": "code",
   "execution_count": 18,
   "id": "3d03cde0",
   "metadata": {},
   "outputs": [
    {
     "data": {
      "image/png": "[encoded data removed]",
      "text/plain": [
       "<Figure size 600x300 with 1 Axes>"
      ]
     },
     "metadata": {},
     "output_type": "display_data"
    }
   ],
   "source": [
    "# Plot the forecast vs the actual\n",
    "\n",
    "fig, ax = plt.subplots(figsize=(6, 3))\n",
    "X_train.tail(100)[\"demand\"].plot(ax=ax, label='train')\n",
    "X_test.head(24)[\"demand\"].plot(ax=ax, label='test')\n",
    "preds.plot(ax=ax, label='predictions')\n",
    "plt.title(\"GBM recursive forecasting\")\n",
    "ax.legend(bbox_to_anchor=(1.3, 1.0));"
   ]
  },
  {
   "cell_type": "markdown",
   "id": "a42b595f",
   "metadata": {},
   "source": [
    "The model is not great, that much we can say!"
   ]
  },
  {
   "cell_type": "code",
   "execution_count": 19,
   "id": "eae80203",
   "metadata": {},
   "outputs": [
    {
     "name": "stdout",
     "output_type": "stream",
     "text": [
      "Test error (mse): 1994653.8839085754\n"
     ]
    }
   ],
   "source": [
    "# Prediction error\n",
    "\n",
    "error_mse = mean_squared_error(\n",
    "                y_true = X_test[\"demand\"].head(24),\n",
    "                y_pred = preds\n",
    "            )\n",
    "\n",
    "print(f\"Test error (mse): {error_mse}\")"
   ]
  },
  {
   "cell_type": "code",
   "execution_count": 20,
   "id": "088e8e60",
   "metadata": {},
   "outputs": [
    {
     "name": "stdout",
     "output_type": "stream",
     "text": [
      "Test error (rmse): 1412.3221600996621\n"
     ]
    },
    {
     "name": "stderr",
     "output_type": "stream",
     "text": [
      "C:\\Users\\Sole\\Documents\\repositories\\envs\\fwml\\lib\\site-packages\\sklearn\\metrics\\_regression.py:483: FutureWarning: 'squared' is deprecated in version 1.4 and will be removed in 1.6. To calculate the root mean squared error, use the function'root_mean_squared_error'.\n",
      "  warnings.warn(\n"
     ]
    }
   ],
   "source": [
    "# Prediction error\n",
    "\n",
    "error_rmse = mean_squared_error(\n",
    "                y_true = X_test[\"demand\"].head(24),\n",
    "                y_pred = preds,\n",
    "                squared=False,\n",
    "            )\n",
    "\n",
    "print(f\"Test error (rmse): {error_rmse}\")"
   ]
  },
  {
   "cell_type": "code",
   "execution_count": 21,
   "id": "35b14054",
   "metadata": {},
   "outputs": [
    {
     "data": {
      "text/html": [
       "<div>\n",
       "<style scoped>\n",
       "    .dataframe tbody tr th:only-of-type {\n",
       "        vertical-align: middle;\n",
       "    }\n",
       "\n",
       "    .dataframe tbody tr th {\n",
       "        vertical-align: top;\n",
       "    }\n",
       "\n",
       "    .dataframe thead th {\n",
       "        text-align: right;\n",
       "    }\n",
       "</style>\n",
       "<table border=\"1\" class=\"dataframe\">\n",
       "  <thead>\n",
       "    <tr style=\"text-align: right;\">\n",
       "      <th></th>\n",
       "      <th>feature</th>\n",
       "      <th>importance</th>\n",
       "    </tr>\n",
       "  </thead>\n",
       "  <tbody>\n",
       "    <tr>\n",
       "      <th>0</th>\n",
       "      <td>lag_1</td>\n",
       "      <td>0.948629</td>\n",
       "    </tr>\n",
       "    <tr>\n",
       "      <th>2</th>\n",
       "      <td>lag_3</td>\n",
       "      <td>0.025640</td>\n",
       "    </tr>\n",
       "    <tr>\n",
       "      <th>11</th>\n",
       "      <td>mean_24</td>\n",
       "      <td>0.005247</td>\n",
       "    </tr>\n",
       "    <tr>\n",
       "      <th>7</th>\n",
       "      <td>lag_8</td>\n",
       "      <td>0.004806</td>\n",
       "    </tr>\n",
       "    <tr>\n",
       "      <th>1</th>\n",
       "      <td>lag_2</td>\n",
       "      <td>0.004383</td>\n",
       "    </tr>\n",
       "    <tr>\n",
       "      <th>9</th>\n",
       "      <td>lag_10</td>\n",
       "      <td>0.004380</td>\n",
       "    </tr>\n",
       "    <tr>\n",
       "      <th>3</th>\n",
       "      <td>lag_4</td>\n",
       "      <td>0.002005</td>\n",
       "    </tr>\n",
       "    <tr>\n",
       "      <th>4</th>\n",
       "      <td>lag_5</td>\n",
       "      <td>0.001578</td>\n",
       "    </tr>\n",
       "    <tr>\n",
       "      <th>8</th>\n",
       "      <td>lag_9</td>\n",
       "      <td>0.001125</td>\n",
       "    </tr>\n",
       "    <tr>\n",
       "      <th>6</th>\n",
       "      <td>lag_7</td>\n",
       "      <td>0.001117</td>\n",
       "    </tr>\n",
       "    <tr>\n",
       "      <th>5</th>\n",
       "      <td>lag_6</td>\n",
       "      <td>0.000791</td>\n",
       "    </tr>\n",
       "    <tr>\n",
       "      <th>10</th>\n",
       "      <td>mean_3</td>\n",
       "      <td>0.000299</td>\n",
       "    </tr>\n",
       "  </tbody>\n",
       "</table>\n",
       "</div>"
      ],
      "text/plain": [
       "    feature  importance\n",
       "0     lag_1    0.948629\n",
       "2     lag_3    0.025640\n",
       "11  mean_24    0.005247\n",
       "7     lag_8    0.004806\n",
       "1     lag_2    0.004383\n",
       "9    lag_10    0.004380\n",
       "3     lag_4    0.002005\n",
       "4     lag_5    0.001578\n",
       "8     lag_9    0.001125\n",
       "6     lag_7    0.001117\n",
       "5     lag_6    0.000791\n",
       "10   mean_3    0.000299"
      ]
     },
     "execution_count": 21,
     "metadata": {},
     "output_type": "execute_result"
    }
   ],
   "source": [
    "# one way of getting the importance\n",
    "\n",
    "forecaster.get_feature_importances()"
   ]
  },
  {
   "cell_type": "code",
   "execution_count": 22,
   "id": "2fff48ba",
   "metadata": {},
   "outputs": [
    {
     "data": {
      "image/png": "[encoded data removed]",
      "text/plain": [
       "<Figure size 800x400 with 1 Axes>"
      ]
     },
     "metadata": {},
     "output_type": "display_data"
    }
   ],
   "source": [
    "# another way of getting the importance\n",
    "\n",
    "pd.Series(forecaster.regressor.feature_importances_,\n",
    "          index=forecaster.regressor.feature_names_in_).plot.bar(figsize=(8,4))\n",
    "plt.title('Feature importance')\n",
    "plt.ylabel('Importance derived from GBM')\n",
    "plt.show()"
   ]
  },
  {
   "cell_type": "markdown",
   "id": "2b929765",
   "metadata": {},
   "source": [
    "## Predict any time point in the future"
   ]
  },
  {
   "cell_type": "code",
   "execution_count": 23,
   "id": "395d475a",
   "metadata": {},
   "outputs": [
    {
     "data": {
      "text/html": [
       "<div>\n",
       "<style scoped>\n",
       "    .dataframe tbody tr th:only-of-type {\n",
       "        vertical-align: middle;\n",
       "    }\n",
       "\n",
       "    .dataframe tbody tr th {\n",
       "        vertical-align: top;\n",
       "    }\n",
       "\n",
       "    .dataframe thead th {\n",
       "        text-align: right;\n",
       "    }\n",
       "</style>\n",
       "<table border=\"1\" class=\"dataframe\">\n",
       "  <thead>\n",
       "    <tr style=\"text-align: right;\">\n",
       "      <th></th>\n",
       "      <th>demand</th>\n",
       "    </tr>\n",
       "    <tr>\n",
       "      <th>date_time</th>\n",
       "      <th></th>\n",
       "    </tr>\n",
       "  </thead>\n",
       "  <tbody>\n",
       "    <tr>\n",
       "      <th>2015-01-31 00:00:00</th>\n",
       "      <td>7844.738566</td>\n",
       "    </tr>\n",
       "    <tr>\n",
       "      <th>2015-01-31 01:00:00</th>\n",
       "      <td>7164.501132</td>\n",
       "    </tr>\n",
       "    <tr>\n",
       "      <th>2015-01-31 02:00:00</th>\n",
       "      <td>6689.463174</td>\n",
       "    </tr>\n",
       "    <tr>\n",
       "      <th>2015-01-31 03:00:00</th>\n",
       "      <td>6553.640100</td>\n",
       "    </tr>\n",
       "    <tr>\n",
       "      <th>2015-01-31 04:00:00</th>\n",
       "      <td>6691.974048</td>\n",
       "    </tr>\n",
       "  </tbody>\n",
       "</table>\n",
       "</div>"
      ],
      "text/plain": [
       "                          demand\n",
       "date_time                       \n",
       "2015-01-31 00:00:00  7844.738566\n",
       "2015-01-31 01:00:00  7164.501132\n",
       "2015-01-31 02:00:00  6689.463174\n",
       "2015-01-31 03:00:00  6553.640100\n",
       "2015-01-31 04:00:00  6691.974048"
      ]
     },
     "execution_count": 23,
     "metadata": {},
     "output_type": "execute_result"
    }
   ],
   "source": [
    "# Say we want to predict energy demand for 1st of February\n",
    "\n",
    "forecast_start = '2015-02-01 00:00:00'\n",
    "\n",
    "# we need the energy demand up to 144 hs before that point\n",
    "past_data_available = X_test[:'2015-01-31 23:59:59'].tail(24)\n",
    "\n",
    "past_data_available.head()"
   ]
  },
  {
   "cell_type": "code",
   "execution_count": 24,
   "id": "dcfd930c",
   "metadata": {},
   "outputs": [
    {
     "data": {
      "text/plain": [
       "2015-02-01 00:00:00    8393.850953\n",
       "2015-02-01 01:00:00    8705.458359\n",
       "2015-02-01 02:00:00    8574.831323\n",
       "2015-02-01 03:00:00    8371.325295\n",
       "2015-02-01 04:00:00    8174.024397\n",
       "Freq: H, Name: pred, dtype: float64"
      ]
     },
     "execution_count": 24,
     "metadata": {},
     "output_type": "execute_result"
    }
   ],
   "source": [
    "predictions = forecaster.predict(\n",
    "    steps=24,\n",
    "    last_window=past_data_available[\"demand\"],\n",
    ")\n",
    "\n",
    "predictions.head()"
   ]
  },
  {
   "cell_type": "code",
   "execution_count": 25,
   "id": "30a01e2a",
   "metadata": {},
   "outputs": [
    {
     "data": {
      "image/png": "[encoded data removed]",
      "text/plain": [
       "<Figure size 600x300 with 1 Axes>"
      ]
     },
     "metadata": {},
     "output_type": "display_data"
    }
   ],
   "source": [
    "# Plot the forecast vs the actual\n",
    "\n",
    "fig, ax = plt.subplots(figsize=(6, 3))\n",
    "X_test['2015-01-31 23:59:59':][\"demand\"].head(24).plot(ax=ax, label='actuals')\n",
    "predictions.plot(ax=ax, label='predictions')\n",
    "plt.title(\"Lasso forecasting\")\n",
    "ax.legend(bbox_to_anchor=(1.3, 1.0));"
   ]
  },
  {
   "cell_type": "code",
   "execution_count": 26,
   "id": "1cee1f33",
   "metadata": {},
   "outputs": [
    {
     "name": "stdout",
     "output_type": "stream",
     "text": [
      "Test error (mse): 950002.3288374892\n"
     ]
    }
   ],
   "source": [
    "# Prediction error\n",
    "\n",
    "error_mse = mean_squared_error(\n",
    "                y_true = X_test['2015-01-31 23:59:59':][\"demand\"].head(24),\n",
    "                y_pred = predictions\n",
    "            )\n",
    "\n",
    "print(f\"Test error (mse): {error_mse}\")"
   ]
  },
  {
   "cell_type": "code",
   "execution_count": 27,
   "id": "71931337",
   "metadata": {},
   "outputs": [
    {
     "name": "stdout",
     "output_type": "stream",
     "text": [
      "Test error (rmse): 1412.3221600996621\n"
     ]
    },
    {
     "name": "stderr",
     "output_type": "stream",
     "text": [
      "C:\\Users\\Sole\\Documents\\repositories\\envs\\fwml\\lib\\site-packages\\sklearn\\metrics\\_regression.py:483: FutureWarning: 'squared' is deprecated in version 1.4 and will be removed in 1.6. To calculate the root mean squared error, use the function'root_mean_squared_error'.\n",
      "  warnings.warn(\n"
     ]
    }
   ],
   "source": [
    "# Prediction error\n",
    "\n",
    "error_rmse = mean_squared_error(\n",
    "                y_true = X_test[\"demand\"].head(24),\n",
    "                y_pred = preds,\n",
    "                squared=False,\n",
    "            )\n",
    "\n",
    "print(f\"Test error (rmse): {error_rmse}\")"
   ]
  },
  {
   "cell_type": "markdown",
   "id": "deff85b4",
   "metadata": {},
   "source": [
    "That's it! Now you know how you can add window features if you are using recursive forecasting with skforecast."
   ]
  },
  {
   "cell_type": "code",
   "execution_count": null,
   "id": "43f7e06b",
   "metadata": {},
   "outputs": [],
   "source": []
  }
 ],
 "metadata": {
  "kernelspec": {
   "display_name": "fwml",
   "language": "python",
   "name": "fwml"
  },
  "language_info": {
   "codemirror_mode": {
    "name": "ipython",
    "version": 3
   },
   "file_extension": ".py",
   "mimetype": "text/x-python",
   "name": "python",
   "nbconvert_exporter": "python",
   "pygments_lexer": "ipython3",
   "version": "3.10.5"
  },
  "toc": {
   "base_numbering": 1,
   "nav_menu": {},
   "number_sections": true,
   "sideBar": true,
   "skip_h1_title": false,
   "title_cell": "Table of Contents",
   "title_sidebar": "Contents",
   "toc_cell": false,
   "toc_position": {},
   "toc_section_display": true,
   "toc_window_display": false
  }
 },
 "nbformat": 4,
 "nbformat_minor": 5
}
