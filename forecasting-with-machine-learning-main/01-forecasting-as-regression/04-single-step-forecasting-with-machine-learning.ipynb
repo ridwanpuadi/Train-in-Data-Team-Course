{
 "cells": [
  {
   "cell_type": "markdown",
   "id": "cd117e34",
   "metadata": {},
   "source": [
    "# Single step forecasting with machine learning\n",
    "\n",
    "[Forecasting with Machine Learning - Course](https://www.trainindata.com/p/forecasting-with-machine-learning)\n",
    "\n",
    "In this notebook, we will pick up the table of predictive features and a target from the first notebook and train a machine learning model to do forecasting.\n",
    "\n",
    "We will do **single step** ahead forecasting."
   ]
  },
  {
   "cell_type": "code",
   "execution_count": 1,
   "id": "0d0b0661",
   "metadata": {},
   "outputs": [],
   "source": [
    "import numpy as np\n",
    "import matplotlib.pyplot as plt\n",
    "import pandas as pd\n",
    "\n",
    "from sklearn.ensemble import RandomForestRegressor\n",
    "from sklearn.linear_model import Lasso\n",
    "from sklearn.metrics import mean_squared_error"
   ]
  },
  {
   "cell_type": "markdown",
   "id": "85d18300",
   "metadata": {},
   "source": [
    "# Load data\n",
    "\n",
    "We will use the electricity demand dataset found [here](https://github.com/tidyverts/tsibbledata/tree/master/data-raw/vic_elec/VIC2015).\n",
    "\n",
    "**Citation:**\n",
    "\n",
    "Godahewa, Rakshitha, Bergmeir, Christoph, Webb, Geoff, Hyndman, Rob, & Montero-Manso, Pablo. (2021). Australian Electricity Demand Dataset (Version 1) [Data set]. Zenodo. https://doi.org/10.5281/zenodo.4659727\n",
    "\n",
    "**Description of data:**\n",
    "\n",
    "A description of the data can be found [here](https://rdrr.io/cran/tsibbledata/man/vic_elec.html). The data contains electricity demand in Victoria, Australia, at 30 minute intervals over a period of 12 years, from 2002 to early 2015. There is also the temperature in Melbourne at 30 minute intervals and public holiday dates."
   ]
  },
  {
   "cell_type": "code",
   "execution_count": 2,
   "id": "e1d84b09",
   "metadata": {},
   "outputs": [
    {
     "data": {
      "text/html": [
       "<div>\n",
       "<style scoped>\n",
       "    .dataframe tbody tr th:only-of-type {\n",
       "        vertical-align: middle;\n",
       "    }\n",
       "\n",
       "    .dataframe tbody tr th {\n",
       "        vertical-align: top;\n",
       "    }\n",
       "\n",
       "    .dataframe thead th {\n",
       "        text-align: right;\n",
       "    }\n",
       "</style>\n",
       "<table border=\"1\" class=\"dataframe\">\n",
       "  <thead>\n",
       "    <tr style=\"text-align: right;\">\n",
       "      <th></th>\n",
       "      <th>demand</th>\n",
       "    </tr>\n",
       "    <tr>\n",
       "      <th>date_time</th>\n",
       "      <th></th>\n",
       "    </tr>\n",
       "  </thead>\n",
       "  <tbody>\n",
       "    <tr>\n",
       "      <th>2002-01-01 00:00:00</th>\n",
       "      <td>6919.366092</td>\n",
       "    </tr>\n",
       "    <tr>\n",
       "      <th>2002-01-01 01:00:00</th>\n",
       "      <td>7165.974188</td>\n",
       "    </tr>\n",
       "    <tr>\n",
       "      <th>2002-01-01 02:00:00</th>\n",
       "      <td>6406.542994</td>\n",
       "    </tr>\n",
       "    <tr>\n",
       "      <th>2002-01-01 03:00:00</th>\n",
       "      <td>5815.537828</td>\n",
       "    </tr>\n",
       "    <tr>\n",
       "      <th>2002-01-01 04:00:00</th>\n",
       "      <td>5497.732922</td>\n",
       "    </tr>\n",
       "  </tbody>\n",
       "</table>\n",
       "</div>"
      ],
      "text/plain": [
       "                          demand\n",
       "date_time                       \n",
       "2002-01-01 00:00:00  6919.366092\n",
       "2002-01-01 01:00:00  7165.974188\n",
       "2002-01-01 02:00:00  6406.542994\n",
       "2002-01-01 03:00:00  5815.537828\n",
       "2002-01-01 04:00:00  5497.732922"
      ]
     },
     "execution_count": 2,
     "metadata": {},
     "output_type": "execute_result"
    }
   ],
   "source": [
    "# Electricity demand.\n",
    "url = \"https://raw.githubusercontent.com/tidyverts/tsibbledata/master/data-raw/vic_elec/VIC2015/demand.csv\"\n",
    "df = pd.read_csv(url)\n",
    "\n",
    "df.drop(columns=[\"Industrial\"], inplace=True)\n",
    "\n",
    "# Convert the integer Date to an actual date with datetime type\n",
    "df[\"date\"] = df[\"Date\"].apply(\n",
    "    lambda x: pd.Timestamp(\"1899-12-30\") + pd.Timedelta(x, unit=\"days\")\n",
    ")\n",
    "\n",
    "# Create a timestamp from the integer Period representing 30 minute intervals\n",
    "df[\"date_time\"] = df[\"date\"] + \\\n",
    "    pd.to_timedelta((df[\"Period\"] - 1) * 30, unit=\"m\")\n",
    "\n",
    "df.dropna(inplace=True)\n",
    "\n",
    "# Rename columns\n",
    "df = df[[\"date_time\", \"OperationalLessIndustrial\"]]\n",
    "\n",
    "df.columns = [\"date_time\", \"demand\"]\n",
    "\n",
    "# Resample to hourly\n",
    "df = (\n",
    "    df.set_index(\"date_time\")\n",
    "    .resample(\"H\")\n",
    "    .agg({\"demand\": \"sum\"})\n",
    ")\n",
    "\n",
    "df.head()"
   ]
  },
  {
   "cell_type": "markdown",
   "id": "7c47f520",
   "metadata": {},
   "source": [
    "## Lag features\n",
    "\n",
    "We shift pass values of the time series forward. We discussed these 3 features in a previous notebook / video."
   ]
  },
  {
   "cell_type": "code",
   "execution_count": 3,
   "id": "a6bbf386",
   "metadata": {},
   "outputs": [
    {
     "data": {
      "text/html": [
       "<div>\n",
       "<style scoped>\n",
       "    .dataframe tbody tr th:only-of-type {\n",
       "        vertical-align: middle;\n",
       "    }\n",
       "\n",
       "    .dataframe tbody tr th {\n",
       "        vertical-align: top;\n",
       "    }\n",
       "\n",
       "    .dataframe thead th {\n",
       "        text-align: right;\n",
       "    }\n",
       "</style>\n",
       "<table border=\"1\" class=\"dataframe\">\n",
       "  <thead>\n",
       "    <tr style=\"text-align: right;\">\n",
       "      <th></th>\n",
       "      <th>demand</th>\n",
       "      <th>y_lag_1</th>\n",
       "      <th>y_lag_24H</th>\n",
       "      <th>y_lag_6d</th>\n",
       "    </tr>\n",
       "    <tr>\n",
       "      <th>date_time</th>\n",
       "      <th></th>\n",
       "      <th></th>\n",
       "      <th></th>\n",
       "      <th></th>\n",
       "    </tr>\n",
       "  </thead>\n",
       "  <tbody>\n",
       "    <tr>\n",
       "      <th>2002-01-01 00:00:00</th>\n",
       "      <td>6919.366092</td>\n",
       "      <td>NaN</td>\n",
       "      <td>NaN</td>\n",
       "      <td>NaN</td>\n",
       "    </tr>\n",
       "    <tr>\n",
       "      <th>2002-01-01 01:00:00</th>\n",
       "      <td>7165.974188</td>\n",
       "      <td>6919.366092</td>\n",
       "      <td>NaN</td>\n",
       "      <td>NaN</td>\n",
       "    </tr>\n",
       "    <tr>\n",
       "      <th>2002-01-01 02:00:00</th>\n",
       "      <td>6406.542994</td>\n",
       "      <td>7165.974188</td>\n",
       "      <td>NaN</td>\n",
       "      <td>NaN</td>\n",
       "    </tr>\n",
       "    <tr>\n",
       "      <th>2002-01-01 03:00:00</th>\n",
       "      <td>5815.537828</td>\n",
       "      <td>6406.542994</td>\n",
       "      <td>NaN</td>\n",
       "      <td>NaN</td>\n",
       "    </tr>\n",
       "    <tr>\n",
       "      <th>2002-01-01 04:00:00</th>\n",
       "      <td>5497.732922</td>\n",
       "      <td>5815.537828</td>\n",
       "      <td>NaN</td>\n",
       "      <td>NaN</td>\n",
       "    </tr>\n",
       "  </tbody>\n",
       "</table>\n",
       "</div>"
      ],
      "text/plain": [
       "                          demand      y_lag_1  y_lag_24H  y_lag_6d\n",
       "date_time                                                         \n",
       "2002-01-01 00:00:00  6919.366092          NaN        NaN       NaN\n",
       "2002-01-01 01:00:00  7165.974188  6919.366092        NaN       NaN\n",
       "2002-01-01 02:00:00  6406.542994  7165.974188        NaN       NaN\n",
       "2002-01-01 03:00:00  5815.537828  6406.542994        NaN       NaN\n",
       "2002-01-01 04:00:00  5497.732922  5815.537828        NaN       NaN"
      ]
     },
     "execution_count": 3,
     "metadata": {},
     "output_type": "execute_result"
    }
   ],
   "source": [
    "df[f\"y_lag_1\"] = df[\"demand\"].shift(periods=1)\n",
    "\n",
    "freq = \"24H\"\n",
    "df[f\"y_lag_{freq}\"] = df[\"demand\"].shift(freq=freq)\n",
    "\n",
    "freq = \"6d\"\n",
    "df[f\"y_lag_{freq}\"] = df[\"demand\"].shift(freq=freq)\n",
    "\n",
    "df.head()"
   ]
  },
  {
   "cell_type": "markdown",
   "id": "875965c1",
   "metadata": {},
   "source": [
    "## Window features\n",
    "\n",
    "We aggregate values within windows in the past.  We discussed these windows in a previous notebook / video."
   ]
  },
  {
   "cell_type": "code",
   "execution_count": 4,
   "id": "09c1767e",
   "metadata": {},
   "outputs": [
    {
     "data": {
      "text/html": [
       "<div>\n",
       "<style scoped>\n",
       "    .dataframe tbody tr th:only-of-type {\n",
       "        vertical-align: middle;\n",
       "    }\n",
       "\n",
       "    .dataframe tbody tr th {\n",
       "        vertical-align: top;\n",
       "    }\n",
       "\n",
       "    .dataframe thead th {\n",
       "        text-align: right;\n",
       "    }\n",
       "</style>\n",
       "<table border=\"1\" class=\"dataframe\">\n",
       "  <thead>\n",
       "    <tr style=\"text-align: right;\">\n",
       "      <th></th>\n",
       "      <th>demand</th>\n",
       "      <th>y_lag_1</th>\n",
       "      <th>y_lag_24H</th>\n",
       "      <th>y_lag_6d</th>\n",
       "      <th>y_window_3_mean</th>\n",
       "      <th>y_window_3_std</th>\n",
       "    </tr>\n",
       "    <tr>\n",
       "      <th>date_time</th>\n",
       "      <th></th>\n",
       "      <th></th>\n",
       "      <th></th>\n",
       "      <th></th>\n",
       "      <th></th>\n",
       "      <th></th>\n",
       "    </tr>\n",
       "  </thead>\n",
       "  <tbody>\n",
       "    <tr>\n",
       "      <th>2002-01-01 00:00:00</th>\n",
       "      <td>6919.366092</td>\n",
       "      <td>NaN</td>\n",
       "      <td>NaN</td>\n",
       "      <td>NaN</td>\n",
       "      <td>NaN</td>\n",
       "      <td>NaN</td>\n",
       "    </tr>\n",
       "    <tr>\n",
       "      <th>2002-01-01 01:00:00</th>\n",
       "      <td>7165.974188</td>\n",
       "      <td>6919.366092</td>\n",
       "      <td>NaN</td>\n",
       "      <td>NaN</td>\n",
       "      <td>NaN</td>\n",
       "      <td>NaN</td>\n",
       "    </tr>\n",
       "    <tr>\n",
       "      <th>2002-01-01 02:00:00</th>\n",
       "      <td>6406.542994</td>\n",
       "      <td>7165.974188</td>\n",
       "      <td>NaN</td>\n",
       "      <td>NaN</td>\n",
       "      <td>NaN</td>\n",
       "      <td>NaN</td>\n",
       "    </tr>\n",
       "    <tr>\n",
       "      <th>2002-01-01 03:00:00</th>\n",
       "      <td>5815.537828</td>\n",
       "      <td>6406.542994</td>\n",
       "      <td>NaN</td>\n",
       "      <td>NaN</td>\n",
       "      <td>6830.627758</td>\n",
       "      <td>387.414253</td>\n",
       "    </tr>\n",
       "    <tr>\n",
       "      <th>2002-01-01 04:00:00</th>\n",
       "      <td>5497.732922</td>\n",
       "      <td>5815.537828</td>\n",
       "      <td>NaN</td>\n",
       "      <td>NaN</td>\n",
       "      <td>6462.685003</td>\n",
       "      <td>676.966421</td>\n",
       "    </tr>\n",
       "  </tbody>\n",
       "</table>\n",
       "</div>"
      ],
      "text/plain": [
       "                          demand      y_lag_1  y_lag_24H  y_lag_6d  \\\n",
       "date_time                                                            \n",
       "2002-01-01 00:00:00  6919.366092          NaN        NaN       NaN   \n",
       "2002-01-01 01:00:00  7165.974188  6919.366092        NaN       NaN   \n",
       "2002-01-01 02:00:00  6406.542994  7165.974188        NaN       NaN   \n",
       "2002-01-01 03:00:00  5815.537828  6406.542994        NaN       NaN   \n",
       "2002-01-01 04:00:00  5497.732922  5815.537828        NaN       NaN   \n",
       "\n",
       "                     y_window_3_mean  y_window_3_std  \n",
       "date_time                                             \n",
       "2002-01-01 00:00:00              NaN             NaN  \n",
       "2002-01-01 01:00:00              NaN             NaN  \n",
       "2002-01-01 02:00:00              NaN             NaN  \n",
       "2002-01-01 03:00:00      6830.627758      387.414253  \n",
       "2002-01-01 04:00:00      6462.685003      676.966421  "
      ]
     },
     "execution_count": 4,
     "metadata": {},
     "output_type": "execute_result"
    }
   ],
   "source": [
    "# We'll use a 3H window size.\n",
    "\n",
    "result = (\n",
    "    df[\"demand\"]\n",
    "    .rolling(window=3) # Pick window size.\n",
    "    .agg([\"mean\", \"std\"]) # Pick statistics.\n",
    "    .shift(freq=\"1H\") # Lag by 1 hour to avoid data leakage.\n",
    ")  \n",
    "\n",
    "result = result.add_prefix(\"y_window_3_\")\n",
    "\n",
    "# add features to main dataframe\n",
    "\n",
    "df = df.merge(result, how=\"left\", left_index=True, right_index=True)\n",
    "\n",
    "df.head()"
   ]
  },
  {
   "cell_type": "code",
   "execution_count": 5,
   "id": "21ade226",
   "metadata": {},
   "outputs": [
    {
     "data": {
      "text/html": [
       "<div>\n",
       "<style scoped>\n",
       "    .dataframe tbody tr th:only-of-type {\n",
       "        vertical-align: middle;\n",
       "    }\n",
       "\n",
       "    .dataframe tbody tr th {\n",
       "        vertical-align: top;\n",
       "    }\n",
       "\n",
       "    .dataframe thead th {\n",
       "        text-align: right;\n",
       "    }\n",
       "</style>\n",
       "<table border=\"1\" class=\"dataframe\">\n",
       "  <thead>\n",
       "    <tr style=\"text-align: right;\">\n",
       "      <th></th>\n",
       "      <th>demand</th>\n",
       "      <th>y_lag_1</th>\n",
       "      <th>y_lag_24H</th>\n",
       "      <th>y_lag_6d</th>\n",
       "      <th>y_window_3_mean</th>\n",
       "      <th>y_window_3_std</th>\n",
       "      <th>y_window_24_mean</th>\n",
       "      <th>y_window_24_std</th>\n",
       "    </tr>\n",
       "    <tr>\n",
       "      <th>date_time</th>\n",
       "      <th></th>\n",
       "      <th></th>\n",
       "      <th></th>\n",
       "      <th></th>\n",
       "      <th></th>\n",
       "      <th></th>\n",
       "      <th></th>\n",
       "      <th></th>\n",
       "    </tr>\n",
       "  </thead>\n",
       "  <tbody>\n",
       "    <tr>\n",
       "      <th>2002-01-01 00:00:00</th>\n",
       "      <td>6919.366092</td>\n",
       "      <td>NaN</td>\n",
       "      <td>NaN</td>\n",
       "      <td>NaN</td>\n",
       "      <td>NaN</td>\n",
       "      <td>NaN</td>\n",
       "      <td>NaN</td>\n",
       "      <td>NaN</td>\n",
       "    </tr>\n",
       "    <tr>\n",
       "      <th>2002-01-01 01:00:00</th>\n",
       "      <td>7165.974188</td>\n",
       "      <td>6919.366092</td>\n",
       "      <td>NaN</td>\n",
       "      <td>NaN</td>\n",
       "      <td>NaN</td>\n",
       "      <td>NaN</td>\n",
       "      <td>NaN</td>\n",
       "      <td>NaN</td>\n",
       "    </tr>\n",
       "    <tr>\n",
       "      <th>2002-01-01 02:00:00</th>\n",
       "      <td>6406.542994</td>\n",
       "      <td>7165.974188</td>\n",
       "      <td>NaN</td>\n",
       "      <td>NaN</td>\n",
       "      <td>NaN</td>\n",
       "      <td>NaN</td>\n",
       "      <td>NaN</td>\n",
       "      <td>NaN</td>\n",
       "    </tr>\n",
       "    <tr>\n",
       "      <th>2002-01-01 03:00:00</th>\n",
       "      <td>5815.537828</td>\n",
       "      <td>6406.542994</td>\n",
       "      <td>NaN</td>\n",
       "      <td>NaN</td>\n",
       "      <td>6830.627758</td>\n",
       "      <td>387.414253</td>\n",
       "      <td>NaN</td>\n",
       "      <td>NaN</td>\n",
       "    </tr>\n",
       "    <tr>\n",
       "      <th>2002-01-01 04:00:00</th>\n",
       "      <td>5497.732922</td>\n",
       "      <td>5815.537828</td>\n",
       "      <td>NaN</td>\n",
       "      <td>NaN</td>\n",
       "      <td>6462.685003</td>\n",
       "      <td>676.966421</td>\n",
       "      <td>NaN</td>\n",
       "      <td>NaN</td>\n",
       "    </tr>\n",
       "  </tbody>\n",
       "</table>\n",
       "</div>"
      ],
      "text/plain": [
       "                          demand      y_lag_1  y_lag_24H  y_lag_6d  \\\n",
       "date_time                                                            \n",
       "2002-01-01 00:00:00  6919.366092          NaN        NaN       NaN   \n",
       "2002-01-01 01:00:00  7165.974188  6919.366092        NaN       NaN   \n",
       "2002-01-01 02:00:00  6406.542994  7165.974188        NaN       NaN   \n",
       "2002-01-01 03:00:00  5815.537828  6406.542994        NaN       NaN   \n",
       "2002-01-01 04:00:00  5497.732922  5815.537828        NaN       NaN   \n",
       "\n",
       "                     y_window_3_mean  y_window_3_std  y_window_24_mean  \\\n",
       "date_time                                                                \n",
       "2002-01-01 00:00:00              NaN             NaN               NaN   \n",
       "2002-01-01 01:00:00              NaN             NaN               NaN   \n",
       "2002-01-01 02:00:00              NaN             NaN               NaN   \n",
       "2002-01-01 03:00:00      6830.627758      387.414253               NaN   \n",
       "2002-01-01 04:00:00      6462.685003      676.966421               NaN   \n",
       "\n",
       "                     y_window_24_std  \n",
       "date_time                             \n",
       "2002-01-01 00:00:00              NaN  \n",
       "2002-01-01 01:00:00              NaN  \n",
       "2002-01-01 02:00:00              NaN  \n",
       "2002-01-01 03:00:00              NaN  \n",
       "2002-01-01 04:00:00              NaN  "
      ]
     },
     "execution_count": 5,
     "metadata": {},
     "output_type": "execute_result"
    }
   ],
   "source": [
    "# We'll use a window size of 24 hours to smooth \n",
    "# over daily seasonality.\n",
    "\n",
    "result = (\n",
    "    df[\"demand\"]\n",
    "    .rolling(window=24) # Pick window size.\n",
    "    .agg([\"mean\", \"std\"]) # Pick statistics.\n",
    "    .shift(freq=\"1H\") # Lag by 1 hour to avoid data leakage.\n",
    ")  \n",
    "\n",
    "result = result.add_prefix(\"y_window_24_\")\n",
    "\n",
    "# add features to main dataframe\n",
    "df = df.merge(result, how=\"left\", left_index=True, right_index=True)\n",
    "\n",
    "df.head()"
   ]
  },
  {
   "cell_type": "markdown",
   "id": "789abfee",
   "metadata": {},
   "source": [
    "## Datetime features\n",
    "\n",
    "We'll create date and time related features from the time series. "
   ]
  },
  {
   "cell_type": "code",
   "execution_count": 6,
   "id": "71de2f39",
   "metadata": {},
   "outputs": [
    {
     "data": {
      "text/html": [
       "<div>\n",
       "<style scoped>\n",
       "    .dataframe tbody tr th:only-of-type {\n",
       "        vertical-align: middle;\n",
       "    }\n",
       "\n",
       "    .dataframe tbody tr th {\n",
       "        vertical-align: top;\n",
       "    }\n",
       "\n",
       "    .dataframe thead th {\n",
       "        text-align: right;\n",
       "    }\n",
       "</style>\n",
       "<table border=\"1\" class=\"dataframe\">\n",
       "  <thead>\n",
       "    <tr style=\"text-align: right;\">\n",
       "      <th></th>\n",
       "      <th>demand</th>\n",
       "      <th>y_lag_1</th>\n",
       "      <th>y_lag_24H</th>\n",
       "      <th>y_lag_6d</th>\n",
       "      <th>y_window_3_mean</th>\n",
       "      <th>y_window_3_std</th>\n",
       "      <th>y_window_24_mean</th>\n",
       "      <th>y_window_24_std</th>\n",
       "      <th>month</th>\n",
       "      <th>day</th>\n",
       "      <th>hour</th>\n",
       "    </tr>\n",
       "    <tr>\n",
       "      <th>date_time</th>\n",
       "      <th></th>\n",
       "      <th></th>\n",
       "      <th></th>\n",
       "      <th></th>\n",
       "      <th></th>\n",
       "      <th></th>\n",
       "      <th></th>\n",
       "      <th></th>\n",
       "      <th></th>\n",
       "      <th></th>\n",
       "      <th></th>\n",
       "    </tr>\n",
       "  </thead>\n",
       "  <tbody>\n",
       "    <tr>\n",
       "      <th>2002-01-01 00:00:00</th>\n",
       "      <td>6919.366092</td>\n",
       "      <td>NaN</td>\n",
       "      <td>NaN</td>\n",
       "      <td>NaN</td>\n",
       "      <td>NaN</td>\n",
       "      <td>NaN</td>\n",
       "      <td>NaN</td>\n",
       "      <td>NaN</td>\n",
       "      <td>1</td>\n",
       "      <td>1</td>\n",
       "      <td>0</td>\n",
       "    </tr>\n",
       "    <tr>\n",
       "      <th>2002-01-01 01:00:00</th>\n",
       "      <td>7165.974188</td>\n",
       "      <td>6919.366092</td>\n",
       "      <td>NaN</td>\n",
       "      <td>NaN</td>\n",
       "      <td>NaN</td>\n",
       "      <td>NaN</td>\n",
       "      <td>NaN</td>\n",
       "      <td>NaN</td>\n",
       "      <td>1</td>\n",
       "      <td>1</td>\n",
       "      <td>1</td>\n",
       "    </tr>\n",
       "    <tr>\n",
       "      <th>2002-01-01 02:00:00</th>\n",
       "      <td>6406.542994</td>\n",
       "      <td>7165.974188</td>\n",
       "      <td>NaN</td>\n",
       "      <td>NaN</td>\n",
       "      <td>NaN</td>\n",
       "      <td>NaN</td>\n",
       "      <td>NaN</td>\n",
       "      <td>NaN</td>\n",
       "      <td>1</td>\n",
       "      <td>1</td>\n",
       "      <td>2</td>\n",
       "    </tr>\n",
       "    <tr>\n",
       "      <th>2002-01-01 03:00:00</th>\n",
       "      <td>5815.537828</td>\n",
       "      <td>6406.542994</td>\n",
       "      <td>NaN</td>\n",
       "      <td>NaN</td>\n",
       "      <td>6830.627758</td>\n",
       "      <td>387.414253</td>\n",
       "      <td>NaN</td>\n",
       "      <td>NaN</td>\n",
       "      <td>1</td>\n",
       "      <td>1</td>\n",
       "      <td>3</td>\n",
       "    </tr>\n",
       "    <tr>\n",
       "      <th>2002-01-01 04:00:00</th>\n",
       "      <td>5497.732922</td>\n",
       "      <td>5815.537828</td>\n",
       "      <td>NaN</td>\n",
       "      <td>NaN</td>\n",
       "      <td>6462.685003</td>\n",
       "      <td>676.966421</td>\n",
       "      <td>NaN</td>\n",
       "      <td>NaN</td>\n",
       "      <td>1</td>\n",
       "      <td>1</td>\n",
       "      <td>4</td>\n",
       "    </tr>\n",
       "  </tbody>\n",
       "</table>\n",
       "</div>"
      ],
      "text/plain": [
       "                          demand      y_lag_1  y_lag_24H  y_lag_6d  \\\n",
       "date_time                                                            \n",
       "2002-01-01 00:00:00  6919.366092          NaN        NaN       NaN   \n",
       "2002-01-01 01:00:00  7165.974188  6919.366092        NaN       NaN   \n",
       "2002-01-01 02:00:00  6406.542994  7165.974188        NaN       NaN   \n",
       "2002-01-01 03:00:00  5815.537828  6406.542994        NaN       NaN   \n",
       "2002-01-01 04:00:00  5497.732922  5815.537828        NaN       NaN   \n",
       "\n",
       "                     y_window_3_mean  y_window_3_std  y_window_24_mean  \\\n",
       "date_time                                                                \n",
       "2002-01-01 00:00:00              NaN             NaN               NaN   \n",
       "2002-01-01 01:00:00              NaN             NaN               NaN   \n",
       "2002-01-01 02:00:00              NaN             NaN               NaN   \n",
       "2002-01-01 03:00:00      6830.627758      387.414253               NaN   \n",
       "2002-01-01 04:00:00      6462.685003      676.966421               NaN   \n",
       "\n",
       "                     y_window_24_std  month  day  hour  \n",
       "date_time                                               \n",
       "2002-01-01 00:00:00              NaN      1    1     0  \n",
       "2002-01-01 01:00:00              NaN      1    1     1  \n",
       "2002-01-01 02:00:00              NaN      1    1     2  \n",
       "2002-01-01 03:00:00              NaN      1    1     3  \n",
       "2002-01-01 04:00:00              NaN      1    1     4  "
      ]
     },
     "execution_count": 6,
     "metadata": {},
     "output_type": "execute_result"
    }
   ],
   "source": [
    "df[\"month\"] = df.index.month\n",
    "df[\"day\"] = df.index.dayofweek\n",
    "df[\"hour\"] = df.index.hour\n",
    "\n",
    "df.head()"
   ]
  },
  {
   "cell_type": "markdown",
   "id": "f85915c4",
   "metadata": {},
   "source": [
    "## Finalize tabularization"
   ]
  },
  {
   "cell_type": "code",
   "execution_count": 7,
   "id": "cd302baa",
   "metadata": {},
   "outputs": [
    {
     "data": {
      "text/html": [
       "<div>\n",
       "<style scoped>\n",
       "    .dataframe tbody tr th:only-of-type {\n",
       "        vertical-align: middle;\n",
       "    }\n",
       "\n",
       "    .dataframe tbody tr th {\n",
       "        vertical-align: top;\n",
       "    }\n",
       "\n",
       "    .dataframe thead th {\n",
       "        text-align: right;\n",
       "    }\n",
       "</style>\n",
       "<table border=\"1\" class=\"dataframe\">\n",
       "  <thead>\n",
       "    <tr style=\"text-align: right;\">\n",
       "      <th></th>\n",
       "      <th>y_lag_1</th>\n",
       "      <th>y_lag_24H</th>\n",
       "      <th>y_lag_6d</th>\n",
       "      <th>y_window_3_mean</th>\n",
       "      <th>y_window_3_std</th>\n",
       "      <th>y_window_24_mean</th>\n",
       "      <th>y_window_24_std</th>\n",
       "      <th>month</th>\n",
       "      <th>day</th>\n",
       "      <th>hour</th>\n",
       "    </tr>\n",
       "    <tr>\n",
       "      <th>date_time</th>\n",
       "      <th></th>\n",
       "      <th></th>\n",
       "      <th></th>\n",
       "      <th></th>\n",
       "      <th></th>\n",
       "      <th></th>\n",
       "      <th></th>\n",
       "      <th></th>\n",
       "      <th></th>\n",
       "      <th></th>\n",
       "    </tr>\n",
       "  </thead>\n",
       "  <tbody>\n",
       "    <tr>\n",
       "      <th>2002-01-07 00:00:00</th>\n",
       "      <td>7290.234268</td>\n",
       "      <td>6722.984526</td>\n",
       "      <td>6919.366092</td>\n",
       "      <td>7060.366613</td>\n",
       "      <td>268.288238</td>\n",
       "      <td>7172.477074</td>\n",
       "      <td>882.158974</td>\n",
       "      <td>1</td>\n",
       "      <td>0</td>\n",
       "      <td>0</td>\n",
       "    </tr>\n",
       "    <tr>\n",
       "      <th>2002-01-07 01:00:00</th>\n",
       "      <td>6808.008916</td>\n",
       "      <td>7140.591176</td>\n",
       "      <td>7165.974188</td>\n",
       "      <td>6954.605689</td>\n",
       "      <td>291.436254</td>\n",
       "      <td>7176.019757</td>\n",
       "      <td>880.444422</td>\n",
       "      <td>1</td>\n",
       "      <td>0</td>\n",
       "      <td>1</td>\n",
       "    </tr>\n",
       "    <tr>\n",
       "      <th>2002-01-07 02:00:00</th>\n",
       "      <td>7209.285712</td>\n",
       "      <td>6562.022104</td>\n",
       "      <td>6406.542994</td>\n",
       "      <td>7102.509632</td>\n",
       "      <td>258.236657</td>\n",
       "      <td>7178.882029</td>\n",
       "      <td>880.435899</td>\n",
       "      <td>1</td>\n",
       "      <td>0</td>\n",
       "      <td>2</td>\n",
       "    </tr>\n",
       "    <tr>\n",
       "      <th>2002-01-07 03:00:00</th>\n",
       "      <td>6535.818342</td>\n",
       "      <td>5976.020780</td>\n",
       "      <td>5815.537828</td>\n",
       "      <td>6851.037657</td>\n",
       "      <td>338.789284</td>\n",
       "      <td>7177.790206</td>\n",
       "      <td>881.249994</td>\n",
       "      <td>1</td>\n",
       "      <td>0</td>\n",
       "      <td>3</td>\n",
       "    </tr>\n",
       "    <tr>\n",
       "      <th>2002-01-07 04:00:00</th>\n",
       "      <td>6112.382636</td>\n",
       "      <td>5688.468222</td>\n",
       "      <td>5497.732922</td>\n",
       "      <td>6619.162230</td>\n",
       "      <td>553.180569</td>\n",
       "      <td>7183.471950</td>\n",
       "      <td>873.570993</td>\n",
       "      <td>1</td>\n",
       "      <td>0</td>\n",
       "      <td>4</td>\n",
       "    </tr>\n",
       "  </tbody>\n",
       "</table>\n",
       "</div>"
      ],
      "text/plain": [
       "                         y_lag_1    y_lag_24H     y_lag_6d  y_window_3_mean  \\\n",
       "date_time                                                                     \n",
       "2002-01-07 00:00:00  7290.234268  6722.984526  6919.366092      7060.366613   \n",
       "2002-01-07 01:00:00  6808.008916  7140.591176  7165.974188      6954.605689   \n",
       "2002-01-07 02:00:00  7209.285712  6562.022104  6406.542994      7102.509632   \n",
       "2002-01-07 03:00:00  6535.818342  5976.020780  5815.537828      6851.037657   \n",
       "2002-01-07 04:00:00  6112.382636  5688.468222  5497.732922      6619.162230   \n",
       "\n",
       "                     y_window_3_std  y_window_24_mean  y_window_24_std  month  \\\n",
       "date_time                                                                       \n",
       "2002-01-07 00:00:00      268.288238       7172.477074       882.158974      1   \n",
       "2002-01-07 01:00:00      291.436254       7176.019757       880.444422      1   \n",
       "2002-01-07 02:00:00      258.236657       7178.882029       880.435899      1   \n",
       "2002-01-07 03:00:00      338.789284       7177.790206       881.249994      1   \n",
       "2002-01-07 04:00:00      553.180569       7183.471950       873.570993      1   \n",
       "\n",
       "                     day  hour  \n",
       "date_time                       \n",
       "2002-01-07 00:00:00    0     0  \n",
       "2002-01-07 01:00:00    0     1  \n",
       "2002-01-07 02:00:00    0     2  \n",
       "2002-01-07 03:00:00    0     3  \n",
       "2002-01-07 04:00:00    0     4  "
      ]
     },
     "execution_count": 7,
     "metadata": {},
     "output_type": "execute_result"
    }
   ],
   "source": [
    "df.dropna(inplace=True)\n",
    "\n",
    "y = df[\"demand\"]\n",
    "X = df.drop(\"demand\", axis=1)\n",
    "\n",
    "# Predictors\n",
    "X.head()"
   ]
  },
  {
   "cell_type": "code",
   "execution_count": 8,
   "id": "94f2b6cf",
   "metadata": {},
   "outputs": [
    {
     "data": {
      "text/plain": [
       "date_time\n",
       "2002-01-07 00:00:00    6808.008916\n",
       "2002-01-07 01:00:00    7209.285712\n",
       "2002-01-07 02:00:00    6535.818342\n",
       "2002-01-07 03:00:00    6112.382636\n",
       "2002-01-07 04:00:00    6165.882096\n",
       "Freq: H, Name: demand, dtype: float64"
      ]
     },
     "execution_count": 8,
     "metadata": {},
     "output_type": "execute_result"
    }
   ],
   "source": [
    "# target\n",
    "\n",
    "y.head()"
   ]
  },
  {
   "cell_type": "markdown",
   "id": "103ff0ba",
   "metadata": {},
   "source": [
    "## Lasso\n",
    "\n",
    "We'll split the data into train and test.\n",
    "\n",
    "We train the model on the train set and evaluate it on the test set."
   ]
  },
  {
   "cell_type": "code",
   "execution_count": 9,
   "id": "089a947c",
   "metadata": {},
   "outputs": [],
   "source": [
    "# Split into train and test\n",
    "\n",
    "# We leave 2015 in the test set\n",
    "\n",
    "end_train = '2014-12-31 23:59:59'\n",
    "\n",
    "X_train = X.loc[:end_train]\n",
    "X_test  = X.loc[end_train:]\n",
    "\n",
    "y_train = y.loc[:end_train]\n",
    "y_test  = y.loc[end_train:]"
   ]
  },
  {
   "cell_type": "code",
   "execution_count": 10,
   "id": "7e35c901",
   "metadata": {},
   "outputs": [
    {
     "data": {
      "text/html": [
       "<style>#sk-container-id-1 {color: black;}#sk-container-id-1 pre{padding: 0;}#sk-container-id-1 div.sk-toggleable {background-color: white;}#sk-container-id-1 label.sk-toggleable__label {cursor: pointer;display: block;width: 100%;margin-bottom: 0;padding: 0.3em;box-sizing: border-box;text-align: center;}#sk-container-id-1 label.sk-toggleable__label-arrow:before {content: \"▸\";float: left;margin-right: 0.25em;color: #696969;}#sk-container-id-1 label.sk-toggleable__label-arrow:hover:before {color: black;}#sk-container-id-1 div.sk-estimator:hover label.sk-toggleable__label-arrow:before {color: black;}#sk-container-id-1 div.sk-toggleable__content {max-height: 0;max-width: 0;overflow: hidden;text-align: left;background-color: #f0f8ff;}#sk-container-id-1 div.sk-toggleable__content pre {margin: 0.2em;color: black;border-radius: 0.25em;background-color: #f0f8ff;}#sk-container-id-1 input.sk-toggleable__control:checked~div.sk-toggleable__content {max-height: 200px;max-width: 100%;overflow: auto;}#sk-container-id-1 input.sk-toggleable__control:checked~label.sk-toggleable__label-arrow:before {content: \"▾\";}#sk-container-id-1 div.sk-estimator input.sk-toggleable__control:checked~label.sk-toggleable__label {background-color: #d4ebff;}#sk-container-id-1 div.sk-label input.sk-toggleable__control:checked~label.sk-toggleable__label {background-color: #d4ebff;}#sk-container-id-1 input.sk-hidden--visually {border: 0;clip: rect(1px 1px 1px 1px);clip: rect(1px, 1px, 1px, 1px);height: 1px;margin: -1px;overflow: hidden;padding: 0;position: absolute;width: 1px;}#sk-container-id-1 div.sk-estimator {font-family: monospace;background-color: #f0f8ff;border: 1px dotted black;border-radius: 0.25em;box-sizing: border-box;margin-bottom: 0.5em;}#sk-container-id-1 div.sk-estimator:hover {background-color: #d4ebff;}#sk-container-id-1 div.sk-parallel-item::after {content: \"\";width: 100%;border-bottom: 1px solid gray;flex-grow: 1;}#sk-container-id-1 div.sk-label:hover label.sk-toggleable__label {background-color: #d4ebff;}#sk-container-id-1 div.sk-serial::before {content: \"\";position: absolute;border-left: 1px solid gray;box-sizing: border-box;top: 0;bottom: 0;left: 50%;z-index: 0;}#sk-container-id-1 div.sk-serial {display: flex;flex-direction: column;align-items: center;background-color: white;padding-right: 0.2em;padding-left: 0.2em;position: relative;}#sk-container-id-1 div.sk-item {position: relative;z-index: 1;}#sk-container-id-1 div.sk-parallel {display: flex;align-items: stretch;justify-content: center;background-color: white;position: relative;}#sk-container-id-1 div.sk-item::before, #sk-container-id-1 div.sk-parallel-item::before {content: \"\";position: absolute;border-left: 1px solid gray;box-sizing: border-box;top: 0;bottom: 0;left: 50%;z-index: -1;}#sk-container-id-1 div.sk-parallel-item {display: flex;flex-direction: column;z-index: 1;position: relative;background-color: white;}#sk-container-id-1 div.sk-parallel-item:first-child::after {align-self: flex-end;width: 50%;}#sk-container-id-1 div.sk-parallel-item:last-child::after {align-self: flex-start;width: 50%;}#sk-container-id-1 div.sk-parallel-item:only-child::after {width: 0;}#sk-container-id-1 div.sk-dashed-wrapped {border: 1px dashed gray;margin: 0 0.4em 0.5em 0.4em;box-sizing: border-box;padding-bottom: 0.4em;background-color: white;}#sk-container-id-1 div.sk-label label {font-family: monospace;font-weight: bold;display: inline-block;line-height: 1.2em;}#sk-container-id-1 div.sk-label-container {text-align: center;}#sk-container-id-1 div.sk-container {/* jupyter's `normalize.less` sets `[hidden] { display: none; }` but bootstrap.min.css set `[hidden] { display: none !important; }` so we also need the `!important` here to be able to override the default hidden behavior on the sphinx rendered scikit-learn.org. See: https://github.com/scikit-learn/scikit-learn/issues/21755 */display: inline-block !important;position: relative;}#sk-container-id-1 div.sk-text-repr-fallback {display: none;}</style><div id=\"sk-container-id-1\" class=\"sk-top-container\"><div class=\"sk-text-repr-fallback\"><pre>Lasso(random_state=9)</pre><b>In a Jupyter environment, please rerun this cell to show the HTML representation or trust the notebook. <br />On GitHub, the HTML representation is unable to render, please try loading this page with nbviewer.org.</b></div><div class=\"sk-container\" hidden><div class=\"sk-item\"><div class=\"sk-estimator sk-toggleable\"><input class=\"sk-toggleable__control sk-hidden--visually\" id=\"sk-estimator-id-1\" type=\"checkbox\" checked><label for=\"sk-estimator-id-1\" class=\"sk-toggleable__label sk-toggleable__label-arrow\">Lasso</label><div class=\"sk-toggleable__content\"><pre>Lasso(random_state=9)</pre></div></div></div></div></div>"
      ],
      "text/plain": [
       "Lasso(random_state=9)"
      ]
     },
     "execution_count": 10,
     "metadata": {},
     "output_type": "execute_result"
    }
   ],
   "source": [
    "lasso = Lasso(random_state=9)\n",
    "\n",
    "lasso.fit(X_train, y_train)"
   ]
  },
  {
   "cell_type": "code",
   "execution_count": 11,
   "id": "10154029",
   "metadata": {},
   "outputs": [
    {
     "name": "stdout",
     "output_type": "stream",
     "text": [
      "performance of lasso = 420.0\n"
     ]
    }
   ],
   "source": [
    "preds = lasso.predict(X_test)\n",
    "\n",
    "rmse = mean_squared_error(y_test, preds, squared=False)\n",
    "\n",
    "print(f\"performance of lasso = {np.round(rmse, 0)}\")"
   ]
  },
  {
   "cell_type": "markdown",
   "id": "4b777367",
   "metadata": {},
   "source": [
    "These results is better than any of the basic forecasts that we did in the previous notebook!"
   ]
  },
  {
   "cell_type": "code",
   "execution_count": 12,
   "id": "8e78b449",
   "metadata": {},
   "outputs": [
    {
     "data": {
      "text/plain": [
       "date_time\n",
       "2015-01-01 00:00:00    8304.546457\n",
       "2015-01-01 01:00:00    7415.970398\n",
       "2015-01-01 02:00:00    6562.974784\n",
       "2015-01-01 03:00:00    6226.010649\n",
       "2015-01-01 04:00:00    6283.344236\n",
       "                          ...     \n",
       "2015-02-28 19:00:00    9920.603625\n",
       "2015-02-28 20:00:00    9369.724714\n",
       "2015-02-28 21:00:00    8516.117770\n",
       "2015-02-28 22:00:00    8020.785482\n",
       "2015-02-28 23:00:00    8168.074936\n",
       "Freq: H, Length: 1416, dtype: float64"
      ]
     },
     "execution_count": 12,
     "metadata": {},
     "output_type": "execute_result"
    }
   ],
   "source": [
    "# convert to series for plotting\n",
    "\n",
    "preds = pd.Series(preds, index=X_test.index)\n",
    "\n",
    "preds"
   ]
  },
  {
   "cell_type": "code",
   "execution_count": 13,
   "id": "58adc90f",
   "metadata": {},
   "outputs": [
    {
     "data": {
      "text/plain": [
       "<matplotlib.legend.Legend at 0x14ed5321d50>"
      ]
     },
     "execution_count": 13,
     "metadata": {},
     "output_type": "execute_result"
    },
    {
     "data": {
      "image/png": "[encoded data removed]",
      "text/plain": [
       "<Figure size 600x300 with 1 Axes>"
      ]
     },
     "metadata": {},
     "output_type": "display_data"
    }
   ],
   "source": [
    "# plot predictions vs actuals\n",
    "\n",
    "fig, ax = plt.subplots(figsize=(6, 3))\n",
    "y_train[-100:].plot(ax=ax, label='train')\n",
    "y_test[:100].plot(ax=ax, label='test')\n",
    "preds.iloc[:100].plot(ax=ax, label='predictions')\n",
    "plt.title(\"Lasso forecasting\")\n",
    "ax.legend(bbox_to_anchor=(1.3, 1.0))"
   ]
  },
  {
   "cell_type": "code",
   "execution_count": 14,
   "id": "207ec6b3",
   "metadata": {},
   "outputs": [
    {
     "data": {
      "text/plain": [
       "Text(0, 0.5, 'Coefficient value')"
      ]
     },
     "execution_count": 14,
     "metadata": {},
     "output_type": "execute_result"
    },
    {
     "data": {
      "image/png": "[encoded data removed]",
      "text/plain": [
       "<Figure size 640x480 with 1 Axes>"
      ]
     },
     "metadata": {},
     "output_type": "display_data"
    }
   ],
   "source": [
    "# We can also understand what is driving the predictions of this\n",
    "# lasso regression.\n",
    "\n",
    "importance = lasso.coef_\n",
    "features = lasso.feature_names_in_\n",
    "\n",
    "pd.Series(importance, index=features).sort_values(ascending=False).plot.bar()\n",
    "plt.title(\"Feature importance\")\n",
    "plt.ylabel(\"Coefficient value\")"
   ]
  },
  {
   "cell_type": "markdown",
   "id": "116f30bb",
   "metadata": {},
   "source": [
    "The hour and the day are the most important predictors of energy consumption."
   ]
  },
  {
   "cell_type": "code",
   "execution_count": 15,
   "id": "9010c651",
   "metadata": {},
   "outputs": [
    {
     "data": {
      "image/png": "[encoded data removed]",
      "text/plain": [
       "<Figure size 800x400 with 1 Axes>"
      ]
     },
     "metadata": {},
     "output_type": "display_data"
    }
   ],
   "source": [
    "y.groupby(X[\"day\"]).mean().plot(figsize=(8,4))\n",
    "\n",
    "plt.title(\"Daily energy demand\")\n",
    "plt.ylabel(\"Energy demand\")\n",
    "plt.xlabel(\"day of the week\")\n",
    "plt.tight_layout()"
   ]
  },
  {
   "cell_type": "markdown",
   "id": "eb05c545",
   "metadata": {},
   "source": [
    "## Random forest"
   ]
  },
  {
   "cell_type": "code",
   "execution_count": 16,
   "id": "c84910d4",
   "metadata": {},
   "outputs": [
    {
     "data": {
      "text/html": [
       "<style>#sk-container-id-2 {color: black;}#sk-container-id-2 pre{padding: 0;}#sk-container-id-2 div.sk-toggleable {background-color: white;}#sk-container-id-2 label.sk-toggleable__label {cursor: pointer;display: block;width: 100%;margin-bottom: 0;padding: 0.3em;box-sizing: border-box;text-align: center;}#sk-container-id-2 label.sk-toggleable__label-arrow:before {content: \"▸\";float: left;margin-right: 0.25em;color: #696969;}#sk-container-id-2 label.sk-toggleable__label-arrow:hover:before {color: black;}#sk-container-id-2 div.sk-estimator:hover label.sk-toggleable__label-arrow:before {color: black;}#sk-container-id-2 div.sk-toggleable__content {max-height: 0;max-width: 0;overflow: hidden;text-align: left;background-color: #f0f8ff;}#sk-container-id-2 div.sk-toggleable__content pre {margin: 0.2em;color: black;border-radius: 0.25em;background-color: #f0f8ff;}#sk-container-id-2 input.sk-toggleable__control:checked~div.sk-toggleable__content {max-height: 200px;max-width: 100%;overflow: auto;}#sk-container-id-2 input.sk-toggleable__control:checked~label.sk-toggleable__label-arrow:before {content: \"▾\";}#sk-container-id-2 div.sk-estimator input.sk-toggleable__control:checked~label.sk-toggleable__label {background-color: #d4ebff;}#sk-container-id-2 div.sk-label input.sk-toggleable__control:checked~label.sk-toggleable__label {background-color: #d4ebff;}#sk-container-id-2 input.sk-hidden--visually {border: 0;clip: rect(1px 1px 1px 1px);clip: rect(1px, 1px, 1px, 1px);height: 1px;margin: -1px;overflow: hidden;padding: 0;position: absolute;width: 1px;}#sk-container-id-2 div.sk-estimator {font-family: monospace;background-color: #f0f8ff;border: 1px dotted black;border-radius: 0.25em;box-sizing: border-box;margin-bottom: 0.5em;}#sk-container-id-2 div.sk-estimator:hover {background-color: #d4ebff;}#sk-container-id-2 div.sk-parallel-item::after {content: \"\";width: 100%;border-bottom: 1px solid gray;flex-grow: 1;}#sk-container-id-2 div.sk-label:hover label.sk-toggleable__label {background-color: #d4ebff;}#sk-container-id-2 div.sk-serial::before {content: \"\";position: absolute;border-left: 1px solid gray;box-sizing: border-box;top: 0;bottom: 0;left: 50%;z-index: 0;}#sk-container-id-2 div.sk-serial {display: flex;flex-direction: column;align-items: center;background-color: white;padding-right: 0.2em;padding-left: 0.2em;position: relative;}#sk-container-id-2 div.sk-item {position: relative;z-index: 1;}#sk-container-id-2 div.sk-parallel {display: flex;align-items: stretch;justify-content: center;background-color: white;position: relative;}#sk-container-id-2 div.sk-item::before, #sk-container-id-2 div.sk-parallel-item::before {content: \"\";position: absolute;border-left: 1px solid gray;box-sizing: border-box;top: 0;bottom: 0;left: 50%;z-index: -1;}#sk-container-id-2 div.sk-parallel-item {display: flex;flex-direction: column;z-index: 1;position: relative;background-color: white;}#sk-container-id-2 div.sk-parallel-item:first-child::after {align-self: flex-end;width: 50%;}#sk-container-id-2 div.sk-parallel-item:last-child::after {align-self: flex-start;width: 50%;}#sk-container-id-2 div.sk-parallel-item:only-child::after {width: 0;}#sk-container-id-2 div.sk-dashed-wrapped {border: 1px dashed gray;margin: 0 0.4em 0.5em 0.4em;box-sizing: border-box;padding-bottom: 0.4em;background-color: white;}#sk-container-id-2 div.sk-label label {font-family: monospace;font-weight: bold;display: inline-block;line-height: 1.2em;}#sk-container-id-2 div.sk-label-container {text-align: center;}#sk-container-id-2 div.sk-container {/* jupyter's `normalize.less` sets `[hidden] { display: none; }` but bootstrap.min.css set `[hidden] { display: none !important; }` so we also need the `!important` here to be able to override the default hidden behavior on the sphinx rendered scikit-learn.org. See: https://github.com/scikit-learn/scikit-learn/issues/21755 */display: inline-block !important;position: relative;}#sk-container-id-2 div.sk-text-repr-fallback {display: none;}</style><div id=\"sk-container-id-2\" class=\"sk-top-container\"><div class=\"sk-text-repr-fallback\"><pre>RandomForestRegressor(n_estimators=10, random_state=9)</pre><b>In a Jupyter environment, please rerun this cell to show the HTML representation or trust the notebook. <br />On GitHub, the HTML representation is unable to render, please try loading this page with nbviewer.org.</b></div><div class=\"sk-container\" hidden><div class=\"sk-item\"><div class=\"sk-estimator sk-toggleable\"><input class=\"sk-toggleable__control sk-hidden--visually\" id=\"sk-estimator-id-2\" type=\"checkbox\" checked><label for=\"sk-estimator-id-2\" class=\"sk-toggleable__label sk-toggleable__label-arrow\">RandomForestRegressor</label><div class=\"sk-toggleable__content\"><pre>RandomForestRegressor(n_estimators=10, random_state=9)</pre></div></div></div></div></div>"
      ],
      "text/plain": [
       "RandomForestRegressor(n_estimators=10, random_state=9)"
      ]
     },
     "execution_count": 16,
     "metadata": {},
     "output_type": "execute_result"
    }
   ],
   "source": [
    "rf = RandomForestRegressor(n_estimators=10, random_state=9)\n",
    "\n",
    "rf.fit(X_train, y_train)"
   ]
  },
  {
   "cell_type": "code",
   "execution_count": 17,
   "id": "74366d0b",
   "metadata": {},
   "outputs": [
    {
     "name": "stdout",
     "output_type": "stream",
     "text": [
      "performance of random forests = 195.0\n"
     ]
    }
   ],
   "source": [
    "preds = rf.predict(X_test)\n",
    "\n",
    "rmse = mean_squared_error(y_test, preds, squared=False)\n",
    "\n",
    "print(f\"performance of random forests = {np.round(rmse, 0)}\")"
   ]
  },
  {
   "cell_type": "markdown",
   "id": "e00b07e1",
   "metadata": {},
   "source": [
    "These results are even better than those from Lasso!"
   ]
  },
  {
   "cell_type": "code",
   "execution_count": 18,
   "id": "d635dd3d",
   "metadata": {},
   "outputs": [
    {
     "data": {
      "text/plain": [
       "date_time\n",
       "2015-01-01 00:00:00    7789.784955\n",
       "2015-01-01 01:00:00    7095.899851\n",
       "2015-01-01 02:00:00    6642.203968\n",
       "2015-01-01 03:00:00    6405.574292\n",
       "2015-01-01 04:00:00    6512.037011\n",
       "                          ...     \n",
       "2015-02-28 19:00:00    9714.433440\n",
       "2015-02-28 20:00:00    9343.688736\n",
       "2015-02-28 21:00:00    8431.553440\n",
       "2015-02-28 22:00:00    7904.207318\n",
       "2015-02-28 23:00:00    8135.500280\n",
       "Freq: H, Length: 1416, dtype: float64"
      ]
     },
     "execution_count": 18,
     "metadata": {},
     "output_type": "execute_result"
    }
   ],
   "source": [
    "# convert to series for plotting\n",
    "\n",
    "preds = pd.Series(preds, index=X_test.index)\n",
    "\n",
    "preds"
   ]
  },
  {
   "cell_type": "code",
   "execution_count": 19,
   "id": "1b8089e2",
   "metadata": {},
   "outputs": [
    {
     "data": {
      "image/png": "[encoded data removed]",
      "text/plain": [
       "<Figure size 600x300 with 1 Axes>"
      ]
     },
     "metadata": {},
     "output_type": "display_data"
    }
   ],
   "source": [
    "# plot predictions vs actuals\n",
    "\n",
    "fig, ax = plt.subplots(figsize=(6, 3))\n",
    "y_train[-100:].plot(ax=ax, label='train')\n",
    "y_test[:100].plot(ax=ax, label='test')\n",
    "preds.iloc[:100].plot(ax=ax, label='predictions')\n",
    "plt.title(\"Random forests forecasting\")\n",
    "ax.legend(bbox_to_anchor=(1.3, 1.0));"
   ]
  },
  {
   "cell_type": "code",
   "execution_count": 20,
   "id": "a013b36a",
   "metadata": {},
   "outputs": [
    {
     "data": {
      "text/plain": [
       "Text(0, 0.5, 'Feature importance')"
      ]
     },
     "execution_count": 20,
     "metadata": {},
     "output_type": "execute_result"
    },
    {
     "data": {
      "image/png": "[encoded data removed]",
      "text/plain": [
       "<Figure size 640x480 with 1 Axes>"
      ]
     },
     "metadata": {},
     "output_type": "display_data"
    }
   ],
   "source": [
    "importance = rf.feature_importances_\n",
    "features = rf.feature_names_in_\n",
    "\n",
    "pd.Series(importance, index=features).sort_values(ascending=False).plot.bar()\n",
    "plt.title(\"Feature importance\")\n",
    "plt.ylabel(\"Feature importance\")"
   ]
  },
  {
   "cell_type": "markdown",
   "id": "e1ffe7e6",
   "metadata": {},
   "source": [
    "For the random forests, the energy consumption in the previews hour, seems to be the most important feature to predict demand."
   ]
  },
  {
   "cell_type": "code",
   "execution_count": null,
   "id": "ab02b4cc",
   "metadata": {},
   "outputs": [],
   "source": []
  }
 ],
 "metadata": {
  "kernelspec": {
   "display_name": "fwml",
   "language": "python",
   "name": "fwml"
  },
  "language_info": {
   "codemirror_mode": {
    "name": "ipython",
    "version": 3
   },
   "file_extension": ".py",
   "mimetype": "text/x-python",
   "name": "python",
   "nbconvert_exporter": "python",
   "pygments_lexer": "ipython3",
   "version": "3.10.5"
  },
  "toc": {
   "base_numbering": 1,
   "nav_menu": {},
   "number_sections": true,
   "sideBar": true,
   "skip_h1_title": false,
   "title_cell": "Table of Contents",
   "title_sidebar": "Contents",
   "toc_cell": false,
   "toc_position": {},
   "toc_section_display": true,
   "toc_window_display": false
  }
 },
 "nbformat": 4,
 "nbformat_minor": 5
}
